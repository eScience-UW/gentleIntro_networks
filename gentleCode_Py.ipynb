{
 "cells": [
  {
   "cell_type": "markdown",
   "id": "5acb2d77",
   "metadata": {},
   "source": [
    "# Gentle introduction to social networks in Python\n",
    "\n",
    "### Prof. Jose Manuel MAGALLANES.\n",
    "* Professor at Pontificia Universidad Católica del Peru\n",
    "* Senior Data Scientist at eScience Institute, University of Washington\n",
    "\n",
    "_______\n",
    "\n",
    "\n",
    "## CONTENTS:\n",
    "\n",
    "### 1. Network from dataframes\n",
    "\n",
    "\n",
    "These data frames have been previously prepared, based on the data from [50 influential people in Seattle tech to follow on Twitter](https://www.builtinseattle.com/2018/08/06/50-seattle-tech-twitter-accounts-to-follow). The file can be seen [here](https://docs.google.com/spreadsheets/d/e/2PACX-1vTpWvtfphnO9eRYwmEyxVAxxo1KEsdpK6sK6q5uhJn5x2QtB-eGiso8ibpF16NaHAers4wDIHkvBo64/pubhtml), and includes 3 sheets:\n",
    "\n",
    "* Network as two columns representing edges.\n",
    "* Network as adjacency matrix.\n",
    "* Attributes of the Network nodes."
   ]
  },
  {
   "cell_type": "code",
   "execution_count": null,
   "id": "445ce0aa",
   "metadata": {},
   "outputs": [],
   "source": [
    "fileLink='https://github.com/eScience-UW/gentleIntro_networks/raw/main/data/seattleTop.xlsx'\n",
    "\n",
    "import pandas as pd\n",
    "\n",
    "edges=pd.read_excel(io=fileLink,sheet_name=\"edges\")\n",
    "adjacency=pd.read_excel(io=fileLink,sheet_name=\"adjacency\",index_col=0)# index_col!\n",
    "attributes=pd.read_excel(io=fileLink,sheet_name=\"attributes\")"
   ]
  },
  {
   "cell_type": "markdown",
   "id": "20ef59e8",
   "metadata": {},
   "source": [
    "Use the previous dataframes to create the network:\n",
    "\n",
    "* From the edges:"
   ]
  },
  {
   "cell_type": "code",
   "execution_count": null,
   "id": "2f97c276",
   "metadata": {},
   "outputs": [],
   "source": [
    "import networkx as net # package needed\n",
    "\n",
    "EliteNet =net.from_pandas_edgelist(edges)\n"
   ]
  },
  {
   "cell_type": "code",
   "execution_count": null,
   "id": "2e18cd6f",
   "metadata": {},
   "outputs": [],
   "source": [
    "\n",
    "EliteNet,len(EliteNet.nodes),len(EliteNet.edges)"
   ]
  },
  {
   "cell_type": "markdown",
   "id": "1519aeb2",
   "metadata": {},
   "source": [
    "* From the adjacency:"
   ]
  },
  {
   "cell_type": "code",
   "execution_count": null,
   "id": "41a074dc",
   "metadata": {},
   "outputs": [],
   "source": [
    "\n",
    "EliteNet = net.Graph(adjacency)\n"
   ]
  },
  {
   "cell_type": "code",
   "execution_count": null,
   "id": "fdf1d806",
   "metadata": {},
   "outputs": [],
   "source": [
    "EliteNet,len(EliteNet.nodes),len(EliteNet.edges)"
   ]
  },
  {
   "cell_type": "code",
   "execution_count": null,
   "id": "950a504a",
   "metadata": {
    "scrolled": false
   },
   "outputs": [],
   "source": [
    "EliteNet.edges(data=True)"
   ]
  },
  {
   "cell_type": "markdown",
   "id": "597b60fd",
   "metadata": {},
   "source": [
    "### 2. Adding Attributes\n",
    "\n",
    "Attributes are added using dictionaries _{node_name:attribute_value}_:"
   ]
  },
  {
   "cell_type": "code",
   "execution_count": null,
   "id": "f927812f",
   "metadata": {},
   "outputs": [],
   "source": [
    "# create dictionaries\n",
    "\n",
    "# for Nodes\n",
    "dictAttribute_male=dict(zip(attributes.name,attributes.male))\n",
    "dictAttribute_followers=dict(zip(attributes.name,attributes.followers))\n",
    "\n",
    "# for edges\n",
    "dictAttribute_typeRel=dict(zip(EliteNet.edges(),['tech']*len(EliteNet.edges())))"
   ]
  },
  {
   "cell_type": "code",
   "execution_count": null,
   "id": "265442b9",
   "metadata": {},
   "outputs": [],
   "source": [
    "dictAttribute_male"
   ]
  },
  {
   "cell_type": "code",
   "execution_count": null,
   "id": "2d7c2b7e",
   "metadata": {},
   "outputs": [],
   "source": [
    "dictAttribute_typeRel"
   ]
  },
  {
   "cell_type": "code",
   "execution_count": null,
   "id": "bc2d77c4",
   "metadata": {},
   "outputs": [],
   "source": [
    "# set attribute with the dictionaries\n",
    "\n",
    "# for nodes\n",
    "net.set_node_attributes(EliteNet, dictAttribute_male,'male')\n",
    "net.set_node_attributes(EliteNet, dictAttribute_followers,'followers')\n",
    "\n",
    "# for edges\n",
    "net.set_edge_attributes(EliteNet, dictAttribute_typeRel,'typeRelation')"
   ]
  },
  {
   "cell_type": "code",
   "execution_count": null,
   "id": "6fd51cdf",
   "metadata": {},
   "outputs": [],
   "source": [
    "## see them\n",
    "EliteNet.nodes(data=True)"
   ]
  },
  {
   "cell_type": "code",
   "execution_count": null,
   "id": "556cd656",
   "metadata": {},
   "outputs": [],
   "source": [
    "EliteNet.edges(data=True)"
   ]
  },
  {
   "cell_type": "code",
   "execution_count": null,
   "id": "d949a699",
   "metadata": {},
   "outputs": [],
   "source": [
    "maleValues=net.get_node_attributes(EliteNet,'male').values()\n",
    "colors_for_nodes=['green' if attr==1 else 'red' for attr in maleValues]"
   ]
  },
  {
   "cell_type": "code",
   "execution_count": null,
   "id": "db2b9ee4",
   "metadata": {},
   "outputs": [],
   "source": [
    "net.draw(EliteNet,\n",
    "        with_labels=True,\n",
    "        node_color=colors_for_nodes)"
   ]
  },
  {
   "cell_type": "markdown",
   "id": "da85d885",
   "metadata": {},
   "source": [
    "## 3. Exploring the Network\n",
    "\n",
    "* Connectedness: A network is  “connected” if there exists a _path_ between any pair of nodes (undirected networks)."
   ]
  },
  {
   "cell_type": "code",
   "execution_count": null,
   "id": "39ed5e92",
   "metadata": {},
   "outputs": [],
   "source": [
    "net.is_connected(EliteNet)"
   ]
  },
  {
   "cell_type": "markdown",
   "id": "edc3b326",
   "metadata": {},
   "source": [
    "* Density: from 0 to 1, where 1 makes it a ‘complete’ network: there is a link between every pair of nodes."
   ]
  },
  {
   "cell_type": "code",
   "execution_count": null,
   "id": "8abd18d5",
   "metadata": {},
   "outputs": [],
   "source": [
    "net.density(EliteNet) "
   ]
  },
  {
   "cell_type": "markdown",
   "id": "875e6647",
   "metadata": {},
   "source": [
    "* Diameter: When two vertices are connected, one can reach the other using multiple egdes. The geodesic is the shorthest path between two connected vertices. Then, the diameter, is the maximum geodesic in a network."
   ]
  },
  {
   "cell_type": "code",
   "execution_count": null,
   "id": "9ccde266",
   "metadata": {},
   "outputs": [],
   "source": [
    "net.diameter(EliteNet)"
   ]
  },
  {
   "cell_type": "markdown",
   "id": "b7a8f20e",
   "metadata": {},
   "source": [
    "* Assortativity: it is a measure to see if nodes are connecting to other nodes similar to themselves. Closer to 1 means higher assortativity, closer to -1 diassortativity; while 0 is no assortativity.\n",
    "\n",
    "a.  Degree assortativity: tendency for highly connected nodes to be connected among themselves."
   ]
  },
  {
   "cell_type": "code",
   "execution_count": null,
   "id": "5f120e77",
   "metadata": {},
   "outputs": [],
   "source": [
    "net.degree_assortativity_coefficient(EliteNet)"
   ]
  },
  {
   "cell_type": "markdown",
   "id": "b56e673f",
   "metadata": {},
   "source": [
    "b.  Categorical assortativity: tendency for nodes with other nodes sharing the same category."
   ]
  },
  {
   "cell_type": "code",
   "execution_count": null,
   "id": "a1ef43aa",
   "metadata": {},
   "outputs": [],
   "source": [
    "net.attribute_assortativity_coefficient(EliteNet,'male')"
   ]
  },
  {
   "cell_type": "markdown",
   "id": "ee6ca14b",
   "metadata": {},
   "source": [
    "c. Assortativity (numerical): "
   ]
  },
  {
   "cell_type": "code",
   "execution_count": null,
   "id": "0d0ccf63",
   "metadata": {},
   "outputs": [],
   "source": [
    "net.numeric_assortativity_coefficient(EliteNet,'followers')"
   ]
  },
  {
   "cell_type": "markdown",
   "id": "446ec4f9",
   "metadata": {},
   "source": [
    "## 4. Exploration of Network nodes"
   ]
  },
  {
   "cell_type": "markdown",
   "id": "194c947a",
   "metadata": {},
   "source": [
    "- The eigenvector of a vertex will tell you how well connected is a vertex; that is, vertices with the highest values are considered the most influential as they are connected to vertices that are also well connected.\n",
    "\n",
    "- The closeness of a vertex will tell you how close is a vertex to every other vertex. A vertex with high closeness can share information faster than the rest.\n",
    "\n",
    "- The betweeness of a vertex will tell you how critical is a vertex to connect vertex that are not connected directly."
   ]
  },
  {
   "cell_type": "code",
   "execution_count": null,
   "id": "1cd3dc68",
   "metadata": {},
   "outputs": [],
   "source": [
    "# Computing centrality measures:\n",
    "\n",
    "eigen=net.eigenvector_centrality(EliteNet)\n",
    "\n",
    "clos=net.closeness_centrality(EliteNet)\n",
    "\n",
    "betw=net.betweenness_centrality(EliteNet)\n"
   ]
  },
  {
   "cell_type": "code",
   "execution_count": null,
   "id": "a79f9c1d",
   "metadata": {},
   "outputs": [],
   "source": [
    "# the dataframe of centralities\n",
    "\n",
    "DFCentrality=pd.DataFrame(dict(Eigenvector = eigen,\n",
    "                               Closeness = clos,\n",
    "                               Betweenness = betw)) \n"
   ]
  },
  {
   "cell_type": "code",
   "execution_count": null,
   "id": "ee8ffd37",
   "metadata": {},
   "outputs": [],
   "source": [
    "DFCentrality.reset_index(drop=False,names='person',inplace=True)\n",
    "DFCentrality"
   ]
  },
  {
   "cell_type": "code",
   "execution_count": null,
   "id": "7c1fd236",
   "metadata": {},
   "outputs": [],
   "source": [
    "import matplotlib.pyplot as plt\n",
    "\n",
    "fig, ax = plt.subplots(figsize=(7,7))\n",
    "\n",
    "ax.scatter(DFCentrality.Betweenness, DFCentrality.Closeness,s=(DFCentrality.Eigenvector+1)**35, alpha=0.5)\n",
    "\n",
    "valsForAnnotate=zip(DFCentrality['person'],DFCentrality['Betweenness'],DFCentrality['Closeness'])\n",
    "\n",
    "for name,coordX,coordY in valsForAnnotate:\n",
    "    ax.annotate(name, (coordX,coordY),alpha=0.5,size=7)\n",
    "    \n",
    "plt.title(\"scatterplot (size for Eigenvector of node)\")\n",
    "plt.xlabel(\"Betweenness\")\n",
    "plt.ylabel(\"Closeness\")\n",
    "plt.show()"
   ]
  },
  {
   "cell_type": "markdown",
   "id": "1008077a",
   "metadata": {},
   "source": [
    "The previous results tells us that two people are salient:"
   ]
  },
  {
   "cell_type": "code",
   "execution_count": null,
   "id": "5c111524",
   "metadata": {},
   "outputs": [],
   "source": [
    "# Determine the hub name:\n",
    "\n",
    "labelsHubs={n:n for n in DFCentrality.nlargest(2, 'Eigenvector')['person']}\n",
    "labelsHubs"
   ]
  },
  {
   "cell_type": "markdown",
   "id": "ea2369ff",
   "metadata": {},
   "source": [
    "let's highlight those guys:"
   ]
  },
  {
   "cell_type": "code",
   "execution_count": null,
   "id": "3c63bd2d",
   "metadata": {},
   "outputs": [],
   "source": [
    "# prepare to plot:\n",
    "fig, ax = plt.subplots(figsize=(7,7))\n",
    "\n",
    "## positions of the nodes\n",
    "pos=net.spring_layout(EliteNet)\n",
    "\n",
    "#edges\n",
    "net.draw_networkx_edges(EliteNet,pos,edge_color='grey',alpha=0.2)\n",
    "# make the hub salient\n",
    "net.draw_networkx_nodes(EliteNet,pos,nodelist=labelsHubs,node_size=200,node_color='r')\n",
    "# label the hubs\n",
    "net.draw_networkx_labels(EliteNet,pos,labels=labelsHubs,font_size=8,font_color='blue')\n",
    "\n",
    "plt.show()"
   ]
  },
  {
   "cell_type": "markdown",
   "id": "3f1b80b1",
   "metadata": {},
   "source": [
    "## 5. Communities"
   ]
  },
  {
   "cell_type": "code",
   "execution_count": null,
   "id": "0c7d4e23",
   "metadata": {},
   "outputs": [],
   "source": [
    "RandomNet=net.erdos_renyi_graph(len(EliteNet.nodes), p=0.5)"
   ]
  },
  {
   "cell_type": "markdown",
   "id": "8b7d10b4",
   "metadata": {},
   "source": [
    "* Transitivity: How probable is that two nodes with a common connection, are also connected."
   ]
  },
  {
   "cell_type": "code",
   "execution_count": null,
   "id": "c34f2d8d",
   "metadata": {},
   "outputs": [],
   "source": [
    "net.transitivity(RandomNet)"
   ]
  },
  {
   "cell_type": "code",
   "execution_count": null,
   "id": "e7b857f4",
   "metadata": {},
   "outputs": [],
   "source": [
    "net.transitivity(EliteNet)"
   ]
  },
  {
   "cell_type": "markdown",
   "id": "56dccf35",
   "metadata": {},
   "source": [
    "* Partition\n",
    "\n",
    "Set of nodes that belong to a group. The hard problems is to decide what node goes where:"
   ]
  },
  {
   "cell_type": "code",
   "execution_count": null,
   "id": "a87dc93b",
   "metadata": {},
   "outputs": [],
   "source": [
    "# edges that will partition the net\n",
    "edgesThePartition=net.minimum_edge_cut(EliteNet)\n",
    "type(edgesThePartition), edgesThePartition"
   ]
  },
  {
   "cell_type": "markdown",
   "id": "17b84241",
   "metadata": {},
   "source": [
    "Let's plot:"
   ]
  },
  {
   "cell_type": "code",
   "execution_count": null,
   "id": "1336c2d5",
   "metadata": {},
   "outputs": [],
   "source": [
    "# labels for the nodes that were part of the edge removed\n",
    "\n",
    "byeEdgeNodes=set(sum(net.minimum_edge_cut(EliteNet),())) # flattening the set\n",
    "labelsEdgesBye={n:n for n in byeEdgeNodes} # a dictionary\n",
    "\n",
    "## see\n",
    "labelsEdgesBye"
   ]
  },
  {
   "cell_type": "code",
   "execution_count": null,
   "id": "cbba3a7b",
   "metadata": {},
   "outputs": [],
   "source": [
    "EliteNet_cut=EliteNet.copy() \n",
    "\n",
    "EliteNet_cut.remove_edges_from(edgesThePartition)\n",
    "\n",
    "\n",
    "fig, ax = plt.subplots(figsize=(10,10))\n",
    "pos=net.spring_layout(EliteNet) # positions for the original net\n",
    "net.draw(EliteNet_cut,pos=pos,node_color='yellow')  # plotting the cuts \n",
    "net.draw_networkx_labels(EliteNet,pos,\n",
    "                         labels=labelsEdgesBye,font_size=12,font_color='red'); # labelling\n",
    "\n"
   ]
  },
  {
   "cell_type": "markdown",
   "id": "ffa940d3",
   "metadata": {},
   "source": [
    "The **girvan_newman** algorithm is based on creating partitions using the centrality of nodes to create partitions too. We can create something similar to the last result like this:"
   ]
  },
  {
   "cell_type": "code",
   "execution_count": null,
   "id": "757ba55d",
   "metadata": {},
   "outputs": [],
   "source": [
    "# generator of partitions\n",
    "partition_girvanNewman_all = net.community.girvan_newman(EliteNet) \n",
    "# the first partition\n",
    "partition_girvanNewman_first = list(set(sorted(c)) for c in next(partition_girvanNewman_all)) "
   ]
  },
  {
   "cell_type": "markdown",
   "id": "889cd7d0",
   "metadata": {},
   "source": [
    "Replotting the previous:"
   ]
  },
  {
   "cell_type": "code",
   "execution_count": null,
   "id": "1bf840f3",
   "metadata": {},
   "outputs": [],
   "source": [
    "fig, ax = plt.subplots(figsize=(10,10))\n",
    "\n",
    "pos = net.spring_layout(EliteNet)\n",
    "\n",
    "cmap = plt.get_cmap('Accent', len(partition_girvanNewman_first)) # amount of colors\n",
    "\n",
    "net.draw_networkx_edges(EliteNet, pos, alpha=0.2) # all edges\n",
    "net.draw_networkx_labels(EliteNet,pos,\n",
    "                         labels=labelsEdgesBye,font_size=6,font_color='red'); # labelling\n",
    "\n",
    "\n",
    "for color, nodes in enumerate(partition_girvanNewman_first): # position , nodeset\n",
    "    \n",
    "    net.draw_networkx_nodes(EliteNet, pos, nodes, node_size=50,\n",
    "                           node_color=[cmap.colors[color]])"
   ]
  },
  {
   "cell_type": "markdown",
   "id": "8e610ef2",
   "metadata": {},
   "source": [
    "A more complex algorithm is the [Louvain](https://perso.uclouvain.be/vincent.blondel/research/louvain.html): "
   ]
  },
  {
   "cell_type": "code",
   "execution_count": null,
   "id": "13728109",
   "metadata": {},
   "outputs": [],
   "source": [
    "partition_louvain=net.community.louvain_communities(EliteNet)"
   ]
  },
  {
   "cell_type": "code",
   "execution_count": null,
   "id": "c314f9ac",
   "metadata": {},
   "outputs": [],
   "source": [
    "###\n",
    "\n",
    "fig, ax = plt.subplots(figsize=(10,10))\n",
    "pos = net.spring_layout(EliteNet,k=3)\n",
    "cmap = plt.get_cmap('Accent', len(partition_louvain))\n",
    "net.draw_networkx_edges(EliteNet, pos, alpha=0.2)\n",
    "for color, nodes in enumerate(partition_louvain):\n",
    "    \n",
    "    net.draw_networkx_nodes(EliteNet, pos, nodes, node_size=100,\n",
    "                           node_color=[cmap.colors[color]])"
   ]
  },
  {
   "cell_type": "code",
   "execution_count": null,
   "id": "d8aa4cb7",
   "metadata": {},
   "outputs": [],
   "source": [
    "partition_girvanNewman_all = list(net.community.girvan_newman(EliteNet))\n",
    "pd.DataFrame([partition_girvanNewman_all[len(partition_louvain)],\n",
    "              partition_girvanNewman_all[len(partition_louvain)-1],\n",
    "              partition_girvanNewman_all[len(partition_louvain)-2]]).T"
   ]
  },
  {
   "cell_type": "code",
   "execution_count": null,
   "id": "3dd1be29",
   "metadata": {},
   "outputs": [],
   "source": [
    "len(partition_louvain)"
   ]
  },
  {
   "cell_type": "code",
   "execution_count": null,
   "id": "f532ae2c",
   "metadata": {},
   "outputs": [],
   "source": [
    "a_partition_girvanNewman=partition_girvanNewman_all[len(partition_louvain)-2]"
   ]
  },
  {
   "cell_type": "markdown",
   "id": "1ba44389",
   "metadata": {},
   "source": [
    "* Modularity:\n",
    "\n",
    "If we get positive values (being 1 the top value), we could consider there are good community structures ([wiki](https://en.wikipedia.org/wiki/Modularity_(networks))). The higher modularity the connections between the nodes are dense  within a partition but sparse  between nodes in different partitions."
   ]
  },
  {
   "cell_type": "code",
   "execution_count": null,
   "id": "16b8ce08",
   "metadata": {},
   "outputs": [],
   "source": [
    "net.community.modularity(EliteNet,a_partition_girvanNewman)"
   ]
  },
  {
   "cell_type": "code",
   "execution_count": null,
   "id": "1b2ce96a",
   "metadata": {},
   "outputs": [],
   "source": [
    "net.community.modularity(EliteNet,partition_louvain)"
   ]
  },
  {
   "cell_type": "markdown",
   "id": "428b58a3",
   "metadata": {},
   "source": [
    "## Exporting"
   ]
  },
  {
   "cell_type": "code",
   "execution_count": null,
   "id": "d34584d8",
   "metadata": {},
   "outputs": [],
   "source": [
    "from collections import ChainMap\n",
    "\n",
    "\n",
    "GnNn_attr=dict(ChainMap(*[{node:a for node in b} for a,b in enumerate(a_partition_girvanNewman)]))\n",
    "GnNn_attr"
   ]
  },
  {
   "cell_type": "code",
   "execution_count": null,
   "id": "11223544",
   "metadata": {},
   "outputs": [],
   "source": [
    "Ln_attr=dict(ChainMap(*[{node:a for node in b} for a,b in enumerate(partition_louvain)]))\n",
    "Ln_attr"
   ]
  },
  {
   "cell_type": "code",
   "execution_count": null,
   "id": "6e02a657",
   "metadata": {},
   "outputs": [],
   "source": [
    "net.set_node_attributes(EliteNet, GnNn_attr,'Girvan_Newman_partition')\n",
    "net.set_node_attributes(EliteNet, Ln_attr,'Louvain_partition')"
   ]
  },
  {
   "cell_type": "code",
   "execution_count": null,
   "id": "59eefd0e",
   "metadata": {},
   "outputs": [],
   "source": [
    "net.write_graphml(EliteNet, \"EliteNet_py.graphml\",encoding='utf-8')"
   ]
  },
  {
   "cell_type": "code",
   "execution_count": null,
   "id": "237c8fc2",
   "metadata": {},
   "outputs": [],
   "source": []
  }
 ],
 "metadata": {
  "kernelspec": {
   "display_name": "Python 3 (ipykernel)",
   "language": "python",
   "name": "python3"
  },
  "language_info": {
   "codemirror_mode": {
    "name": "ipython",
    "version": 3
   },
   "file_extension": ".py",
   "mimetype": "text/x-python",
   "name": "python",
   "nbconvert_exporter": "python",
   "pygments_lexer": "ipython3",
   "version": "3.11.0"
  }
 },
 "nbformat": 4,
 "nbformat_minor": 5
}
