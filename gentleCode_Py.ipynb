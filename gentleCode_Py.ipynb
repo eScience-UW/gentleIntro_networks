{
 "cells": [
  {
   "cell_type": "markdown",
   "id": "5acb2d77",
   "metadata": {},
   "source": [
    "# Gentle introduction to social networks in Python\n",
    "\n",
    "### Prof. Jose Manuel MAGALLANES.\n",
    "* Professor at Pontificia Universidad Católica del Peru\n",
    "* Senior Data Scientist at eScience Institute, University of Washington\n",
    "\n",
    "_______\n",
    "\n",
    "\n",
    "## CONTENTS:\n",
    "\n",
    "### 1. Network from dataframes\n",
    "\n",
    "\n",
    "These data frames have been previously prepared, based on the data from [50 influential people in Seattle tech to follow on Twitter](https://www.builtinseattle.com/2018/08/06/50-seattle-tech-twitter-accounts-to-follow). The file can be seen [here](https://docs.google.com/spreadsheets/d/e/2PACX-1vTpWvtfphnO9eRYwmEyxVAxxo1KEsdpK6sK6q5uhJn5x2QtB-eGiso8ibpF16NaHAers4wDIHkvBo64/pubhtml), and includes 3 sheets:\n",
    "\n",
    "* Network as two columns representing edges.\n",
    "* Network as adjacency matrix.\n",
    "* Attributes of the Network nodes."
   ]
  },
  {
   "cell_type": "code",
   "execution_count": 1,
   "id": "445ce0aa",
   "metadata": {},
   "outputs": [],
   "source": [
    "fileLink='https://github.com/eScience-UW/gentleIntro_networks/raw/main/data/seattleTop.xlsx'\n",
    "\n",
    "import pandas as pd\n",
    "\n",
    "edges=pd.read_excel(io=fileLink,sheet_name=\"edges\")\n",
    "adjacency=pd.read_excel(io=fileLink,sheet_name=\"adjacency\",index_col=0)# index_col!\n",
    "attributes=pd.read_excel(io=fileLink,sheet_name=\"attributes\")"
   ]
  },
  {
   "cell_type": "markdown",
   "id": "20ef59e8",
   "metadata": {},
   "source": [
    "Use the previous dataframes to create the network:\n",
    "\n",
    "* From the edges:"
   ]
  },
  {
   "cell_type": "code",
   "execution_count": 2,
   "id": "2f97c276",
   "metadata": {},
   "outputs": [],
   "source": [
    "import networkx as net # package needed\n",
    "\n",
    "EliteNet =net.from_pandas_edgelist(edges)"
   ]
  },
  {
   "cell_type": "code",
   "execution_count": 3,
   "id": "2e18cd6f",
   "metadata": {},
   "outputs": [
    {
     "data": {
      "text/plain": [
       "(<networkx.classes.graph.Graph at 0x1b25f298b50>, 46, 393)"
      ]
     },
     "execution_count": 3,
     "metadata": {},
     "output_type": "execute_result"
    }
   ],
   "source": [
    "EliteNet,len(EliteNet.nodes),len(EliteNet.edges)"
   ]
  },
  {
   "cell_type": "markdown",
   "id": "1519aeb2",
   "metadata": {},
   "source": [
    "* From the adjacency:"
   ]
  },
  {
   "cell_type": "code",
   "execution_count": 4,
   "id": "41a074dc",
   "metadata": {},
   "outputs": [],
   "source": [
    "EliteNet = net.Graph(adjacency)"
   ]
  },
  {
   "cell_type": "code",
   "execution_count": 5,
   "id": "fdf1d806",
   "metadata": {},
   "outputs": [
    {
     "data": {
      "text/plain": [
       "(<networkx.classes.graph.Graph at 0x1b262651e10>, 46, 393)"
      ]
     },
     "execution_count": 5,
     "metadata": {},
     "output_type": "execute_result"
    }
   ],
   "source": [
    "EliteNet,len(EliteNet.nodes),len(EliteNet.edges)"
   ]
  },
  {
   "cell_type": "markdown",
   "id": "597b60fd",
   "metadata": {},
   "source": [
    "### 2. Adding Node attributes\n",
    "\n",
    "Attributes are added using dictionaries _{node_name:attribute_value}_:"
   ]
  },
  {
   "cell_type": "code",
   "execution_count": 6,
   "id": "f927812f",
   "metadata": {},
   "outputs": [],
   "source": [
    "# create dictionaries\n",
    "dictAttribute_male=dict(zip(attributes.name,attributes.male))\n",
    "dictAttribute_followers=dict(zip(attributes.name,attributes.followers))"
   ]
  },
  {
   "cell_type": "code",
   "execution_count": 7,
   "id": "bc2d77c4",
   "metadata": {},
   "outputs": [],
   "source": [
    "# set attribute with the dictionaries\n",
    "net.set_node_attributes(EliteNet, dictAttribute_male,'male')\n",
    "net.set_node_attributes(EliteNet, dictAttribute_followers,'followers')"
   ]
  },
  {
   "cell_type": "code",
   "execution_count": 8,
   "id": "6fd51cdf",
   "metadata": {},
   "outputs": [
    {
     "data": {
      "text/plain": [
       "NodeDataView({'rachelerman': {'male': 0, 'followers': 7139}, 'mattmcilwain': {'male': 1, 'followers': 2804}, 'DaveParkerSEA': {'male': 1, 'followers': 3328}, 'toddbishop': {'male': 1, 'followers': 24500}, 'ashannstew': {'male': 0, 'followers': 3382}, 'LeslieFeinzaig': {'male': 0, 'followers': 15900}, 'akipman': {'male': 1, 'followers': 29500}, 'matt_oppy': {'male': 1, 'followers': 4847}, 'gilbert': {'male': 1, 'followers': 25800}, 'juliesandler': {'male': 0, 'followers': 7031}, 'BradSmi': {'male': 1, 'followers': 96300}, 'crashdev': {'male': 0, 'followers': 8773}, 'ShaunaCausey': {'male': 0, 'followers': 47400}, 'john_gabbert': {'male': 1, 'followers': 2482}, 'moniguzman': {'male': 0, 'followers': 29000}, 'mattmday': {'male': 1, 'followers': 5750}, 'Rich_Barton': {'male': 1, 'followers': 31300}, 'daryn': {'male': 1, 'followers': 2378}, 'lovelletters': {'male': 0, 'followers': 4553}, 'etzioni': {'male': 1, 'followers': 27400}, 'MissDestructo': {'male': 0, 'followers': 41800}, 'heatherredman': {'male': 0, 'followers': 3957}, 'danshapiro': {'male': 1, 'followers': 10900}, 'medinism': {'male': 1, 'followers': 2084}, 'KieranSnyder': {'male': 0, 'followers': 15400}, 'hadip': {'male': 1, 'followers': 43300}, 'RajSinghSeattle': {'male': 1, 'followers': 4991}, 'funcOfJoe': {'male': 1, 'followers': 9510}, 'kirbywinfield': {'male': 1, 'followers': 6230}, 'stevesi': {'male': 1, 'followers': 206666}, 'Ryanintheus': {'male': 1, 'followers': 194239}, 'sonalpmane': {'male': 0, 'followers': 1215}, 'SoGulley': {'male': 0, 'followers': 965}, '2morrowknight': {'male': 1, 'followers': 737130}, 'jinman': {'male': 1, 'followers': 4781}, 'tarah': {'male': 0, 'followers': 48992}, 'Jenerationy': {'male': 0, 'followers': 13272}, 'lanctot': {'male': 1, 'followers': 5519}, 'Kristen_Hammy': {'male': 0, 'followers': 1196}, 'nhuntwalker': {'male': 1, 'followers': 5032}, 'eugenio_pace': {'male': 1, 'followers': 4908}, 'JenMsft': {'male': 0, 'followers': 0}, 'PeterHamilton': {'male': 1, 'followers': 7329}, 'sarahstood': {'male': 0, 'followers': 1118}, 'mcolacurcio': {'male': 0, 'followers': 2039}, 'marybethlambert': {'male': 0, 'followers': 1010}})"
      ]
     },
     "execution_count": 8,
     "metadata": {},
     "output_type": "execute_result"
    }
   ],
   "source": [
    "## see them\n",
    "EliteNet.nodes(data=True)"
   ]
  },
  {
   "cell_type": "code",
   "execution_count": 9,
   "id": "d949a699",
   "metadata": {},
   "outputs": [],
   "source": [
    "maleValues=net.get_node_attributes(EliteNet,'male').values()\n",
    "colors_for_nodes=['green' if attr==1 else 'red' for attr in maleValues]"
   ]
  },
  {
   "cell_type": "code",
   "execution_count": 10,
   "id": "db2b9ee4",
   "metadata": {},
   "outputs": [
    {
     "ename": "ImportError",
     "evalue": "DLL load failed while importing _imaging: No se puede encontrar el módulo especificado.",
     "output_type": "error",
     "traceback": [
      "\u001b[1;31m---------------------------------------------------------------------------\u001b[0m",
      "\u001b[1;31mImportError\u001b[0m                               Traceback (most recent call last)",
      "Cell \u001b[1;32mIn[10], line 1\u001b[0m\n\u001b[1;32m----> 1\u001b[0m net\u001b[38;5;241m.\u001b[39mdraw(EliteNet,\n\u001b[0;32m      2\u001b[0m         with_labels\u001b[38;5;241m=\u001b[39m\u001b[38;5;28;01mTrue\u001b[39;00m,\n\u001b[0;32m      3\u001b[0m         node_color\u001b[38;5;241m=\u001b[39mcolors_for_nodes)\n",
      "File \u001b[1;32m~\\Anaconda3\\envs\\spatial311\\Lib\\site-packages\\networkx\\drawing\\nx_pylab.py:105\u001b[0m, in \u001b[0;36mdraw\u001b[1;34m(G, pos, ax, **kwds)\u001b[0m\n\u001b[0;32m     49\u001b[0m \u001b[38;5;28;01mdef\u001b[39;00m \u001b[38;5;21mdraw\u001b[39m(G, pos\u001b[38;5;241m=\u001b[39m\u001b[38;5;28;01mNone\u001b[39;00m, ax\u001b[38;5;241m=\u001b[39m\u001b[38;5;28;01mNone\u001b[39;00m, \u001b[38;5;241m*\u001b[39m\u001b[38;5;241m*\u001b[39mkwds):\n\u001b[0;32m     50\u001b[0m \u001b[38;5;250m    \u001b[39m\u001b[38;5;124;03m\"\"\"Draw the graph G with Matplotlib.\u001b[39;00m\n\u001b[0;32m     51\u001b[0m \n\u001b[0;32m     52\u001b[0m \u001b[38;5;124;03m    Draw the graph as a simple representation with no node\u001b[39;00m\n\u001b[1;32m   (...)\u001b[0m\n\u001b[0;32m    103\u001b[0m \u001b[38;5;124;03m    https://networkx.org/documentation/latest/auto_examples/index.html\u001b[39;00m\n\u001b[0;32m    104\u001b[0m \u001b[38;5;124;03m    \"\"\"\u001b[39;00m\n\u001b[1;32m--> 105\u001b[0m     \u001b[38;5;28;01mimport\u001b[39;00m \u001b[38;5;21;01mmatplotlib\u001b[39;00m\u001b[38;5;21;01m.\u001b[39;00m\u001b[38;5;21;01mpyplot\u001b[39;00m \u001b[38;5;28;01mas\u001b[39;00m \u001b[38;5;21;01mplt\u001b[39;00m\n\u001b[0;32m    107\u001b[0m     \u001b[38;5;28;01mif\u001b[39;00m ax \u001b[38;5;129;01mis\u001b[39;00m \u001b[38;5;28;01mNone\u001b[39;00m:\n\u001b[0;32m    108\u001b[0m         cf \u001b[38;5;241m=\u001b[39m plt\u001b[38;5;241m.\u001b[39mgcf()\n",
      "File \u001b[1;32m~\\Anaconda3\\envs\\spatial311\\Lib\\site-packages\\matplotlib\\__init__.py:131\u001b[0m\n\u001b[0;32m    127\u001b[0m \u001b[38;5;28;01mfrom\u001b[39;00m \u001b[38;5;21;01mpackaging\u001b[39;00m\u001b[38;5;21;01m.\u001b[39;00m\u001b[38;5;21;01mversion\u001b[39;00m \u001b[38;5;28;01mimport\u001b[39;00m parse \u001b[38;5;28;01mas\u001b[39;00m parse_version\n\u001b[0;32m    129\u001b[0m \u001b[38;5;66;03m# cbook must import matplotlib only within function\u001b[39;00m\n\u001b[0;32m    130\u001b[0m \u001b[38;5;66;03m# definitions, so it is safe to import from it here.\u001b[39;00m\n\u001b[1;32m--> 131\u001b[0m \u001b[38;5;28;01mfrom\u001b[39;00m \u001b[38;5;21;01m.\u001b[39;00m \u001b[38;5;28;01mimport\u001b[39;00m _api, _version, cbook, _docstring, rcsetup\n\u001b[0;32m    132\u001b[0m \u001b[38;5;28;01mfrom\u001b[39;00m \u001b[38;5;21;01mmatplotlib\u001b[39;00m\u001b[38;5;21;01m.\u001b[39;00m\u001b[38;5;21;01mcbook\u001b[39;00m \u001b[38;5;28;01mimport\u001b[39;00m sanitize_sequence\n\u001b[0;32m    133\u001b[0m \u001b[38;5;28;01mfrom\u001b[39;00m \u001b[38;5;21;01mmatplotlib\u001b[39;00m\u001b[38;5;21;01m.\u001b[39;00m\u001b[38;5;21;01m_api\u001b[39;00m \u001b[38;5;28;01mimport\u001b[39;00m MatplotlibDeprecationWarning\n",
      "File \u001b[1;32m~\\Anaconda3\\envs\\spatial311\\Lib\\site-packages\\matplotlib\\rcsetup.py:27\u001b[0m\n\u001b[0;32m     25\u001b[0m \u001b[38;5;28;01mfrom\u001b[39;00m \u001b[38;5;21;01mmatplotlib\u001b[39;00m \u001b[38;5;28;01mimport\u001b[39;00m _api, cbook\n\u001b[0;32m     26\u001b[0m \u001b[38;5;28;01mfrom\u001b[39;00m \u001b[38;5;21;01mmatplotlib\u001b[39;00m\u001b[38;5;21;01m.\u001b[39;00m\u001b[38;5;21;01mcbook\u001b[39;00m \u001b[38;5;28;01mimport\u001b[39;00m ls_mapper\n\u001b[1;32m---> 27\u001b[0m \u001b[38;5;28;01mfrom\u001b[39;00m \u001b[38;5;21;01mmatplotlib\u001b[39;00m\u001b[38;5;21;01m.\u001b[39;00m\u001b[38;5;21;01mcolors\u001b[39;00m \u001b[38;5;28;01mimport\u001b[39;00m Colormap, is_color_like\n\u001b[0;32m     28\u001b[0m \u001b[38;5;28;01mfrom\u001b[39;00m \u001b[38;5;21;01mmatplotlib\u001b[39;00m\u001b[38;5;21;01m.\u001b[39;00m\u001b[38;5;21;01m_fontconfig_pattern\u001b[39;00m \u001b[38;5;28;01mimport\u001b[39;00m parse_fontconfig_pattern\n\u001b[0;32m     29\u001b[0m \u001b[38;5;28;01mfrom\u001b[39;00m \u001b[38;5;21;01mmatplotlib\u001b[39;00m\u001b[38;5;21;01m.\u001b[39;00m\u001b[38;5;21;01m_enums\u001b[39;00m \u001b[38;5;28;01mimport\u001b[39;00m JoinStyle, CapStyle\n",
      "File \u001b[1;32m~\\Anaconda3\\envs\\spatial311\\Lib\\site-packages\\matplotlib\\colors.py:51\u001b[0m\n\u001b[0;32m     49\u001b[0m \u001b[38;5;28;01mfrom\u001b[39;00m \u001b[38;5;21;01mnumbers\u001b[39;00m \u001b[38;5;28;01mimport\u001b[39;00m Number\n\u001b[0;32m     50\u001b[0m \u001b[38;5;28;01mimport\u001b[39;00m \u001b[38;5;21;01mre\u001b[39;00m\n\u001b[1;32m---> 51\u001b[0m \u001b[38;5;28;01mfrom\u001b[39;00m \u001b[38;5;21;01mPIL\u001b[39;00m \u001b[38;5;28;01mimport\u001b[39;00m Image\n\u001b[0;32m     52\u001b[0m \u001b[38;5;28;01mfrom\u001b[39;00m \u001b[38;5;21;01mPIL\u001b[39;00m\u001b[38;5;21;01m.\u001b[39;00m\u001b[38;5;21;01mPngImagePlugin\u001b[39;00m \u001b[38;5;28;01mimport\u001b[39;00m PngInfo\n\u001b[0;32m     54\u001b[0m \u001b[38;5;28;01mimport\u001b[39;00m \u001b[38;5;21;01mmatplotlib\u001b[39;00m \u001b[38;5;28;01mas\u001b[39;00m \u001b[38;5;21;01mmpl\u001b[39;00m\n",
      "File \u001b[1;32m~\\Anaconda3\\envs\\spatial311\\Lib\\site-packages\\PIL\\Image.py:103\u001b[0m\n\u001b[0;32m     94\u001b[0m MAX_IMAGE_PIXELS \u001b[38;5;241m=\u001b[39m \u001b[38;5;28mint\u001b[39m(\u001b[38;5;241m1024\u001b[39m \u001b[38;5;241m*\u001b[39m \u001b[38;5;241m1024\u001b[39m \u001b[38;5;241m*\u001b[39m \u001b[38;5;241m1024\u001b[39m \u001b[38;5;241m/\u001b[39m\u001b[38;5;241m/\u001b[39m \u001b[38;5;241m4\u001b[39m \u001b[38;5;241m/\u001b[39m\u001b[38;5;241m/\u001b[39m \u001b[38;5;241m3\u001b[39m)\n\u001b[0;32m     97\u001b[0m \u001b[38;5;28;01mtry\u001b[39;00m:\n\u001b[0;32m     98\u001b[0m     \u001b[38;5;66;03m# If the _imaging C module is not present, Pillow will not load.\u001b[39;00m\n\u001b[0;32m     99\u001b[0m     \u001b[38;5;66;03m# Note that other modules should not refer to _imaging directly;\u001b[39;00m\n\u001b[0;32m    100\u001b[0m     \u001b[38;5;66;03m# import Image and use the Image.core variable instead.\u001b[39;00m\n\u001b[0;32m    101\u001b[0m     \u001b[38;5;66;03m# Also note that Image.core is not a publicly documented interface,\u001b[39;00m\n\u001b[0;32m    102\u001b[0m     \u001b[38;5;66;03m# and should be considered private and subject to change.\u001b[39;00m\n\u001b[1;32m--> 103\u001b[0m     \u001b[38;5;28;01mfrom\u001b[39;00m \u001b[38;5;21;01m.\u001b[39;00m \u001b[38;5;28;01mimport\u001b[39;00m _imaging \u001b[38;5;28;01mas\u001b[39;00m core\n\u001b[0;32m    105\u001b[0m     \u001b[38;5;28;01mif\u001b[39;00m __version__ \u001b[38;5;241m!=\u001b[39m \u001b[38;5;28mgetattr\u001b[39m(core, \u001b[38;5;124m\"\u001b[39m\u001b[38;5;124mPILLOW_VERSION\u001b[39m\u001b[38;5;124m\"\u001b[39m, \u001b[38;5;28;01mNone\u001b[39;00m):\n\u001b[0;32m    106\u001b[0m         msg \u001b[38;5;241m=\u001b[39m (\n\u001b[0;32m    107\u001b[0m             \u001b[38;5;124m\"\u001b[39m\u001b[38;5;124mThe _imaging extension was built for another version of Pillow or PIL:\u001b[39m\u001b[38;5;130;01m\\n\u001b[39;00m\u001b[38;5;124m\"\u001b[39m\n\u001b[0;32m    108\u001b[0m             \u001b[38;5;124mf\u001b[39m\u001b[38;5;124m\"\u001b[39m\u001b[38;5;124mCore version: \u001b[39m\u001b[38;5;132;01m{\u001b[39;00m\u001b[38;5;28mgetattr\u001b[39m(core,\u001b[38;5;250m \u001b[39m\u001b[38;5;124m'\u001b[39m\u001b[38;5;124mPILLOW_VERSION\u001b[39m\u001b[38;5;124m'\u001b[39m,\u001b[38;5;250m \u001b[39m\u001b[38;5;28;01mNone\u001b[39;00m)\u001b[38;5;132;01m}\u001b[39;00m\u001b[38;5;130;01m\\n\u001b[39;00m\u001b[38;5;124m\"\u001b[39m\n\u001b[0;32m    109\u001b[0m             \u001b[38;5;124mf\u001b[39m\u001b[38;5;124m\"\u001b[39m\u001b[38;5;124mPillow version: \u001b[39m\u001b[38;5;132;01m{\u001b[39;00m__version__\u001b[38;5;132;01m}\u001b[39;00m\u001b[38;5;124m\"\u001b[39m\n\u001b[0;32m    110\u001b[0m         )\n",
      "\u001b[1;31mImportError\u001b[0m: DLL load failed while importing _imaging: No se puede encontrar el módulo especificado."
     ]
    }
   ],
   "source": [
    "net.draw(EliteNet,\n",
    "        with_labels=True,\n",
    "        node_color=colors_for_nodes)"
   ]
  },
  {
   "cell_type": "markdown",
   "id": "da85d885",
   "metadata": {},
   "source": [
    "## 3. Exploring the Network\n",
    "\n",
    "* Connectedness: A network is  “connected” if there exists a _path_ between any pair of nodes (undirected networks)."
   ]
  },
  {
   "cell_type": "code",
   "execution_count": null,
   "id": "39ed5e92",
   "metadata": {},
   "outputs": [],
   "source": [
    "net.is_connected(EliteNet)"
   ]
  },
  {
   "cell_type": "markdown",
   "id": "edc3b326",
   "metadata": {},
   "source": [
    "* Density: from 0 to 1, where 1 makes it a ‘complete’ network: there is a link between every pair of nodes."
   ]
  },
  {
   "cell_type": "code",
   "execution_count": null,
   "id": "8abd18d5",
   "metadata": {},
   "outputs": [],
   "source": [
    "net.density(EliteNet) "
   ]
  },
  {
   "cell_type": "markdown",
   "id": "875e6647",
   "metadata": {},
   "source": [
    "* Diameter: When two vertices are connected, one can reach the other using multiple egdes. The geodesic is the shorthest path between two connected vertices. Then, the diameter, is the maximum geodesic in a network."
   ]
  },
  {
   "cell_type": "code",
   "execution_count": null,
   "id": "9ccde266",
   "metadata": {},
   "outputs": [],
   "source": [
    "net.diameter(EliteNet)"
   ]
  },
  {
   "cell_type": "markdown",
   "id": "8b7d10b4",
   "metadata": {},
   "source": [
    "* Transitivity: How probable is that two nodes with a common connection, are also connected."
   ]
  },
  {
   "cell_type": "code",
   "execution_count": null,
   "id": "e7b857f4",
   "metadata": {},
   "outputs": [],
   "source": [
    "net.transitivity(EliteNet)"
   ]
  },
  {
   "cell_type": "markdown",
   "id": "b7a8f20e",
   "metadata": {},
   "source": [
    "* Assortativity: it is a measure to see if nodes are connecting to other nodes similar to themselves. Closer to 1 means higher assortativity, closer to -1 diassortativity; while 0 is no assortativity.\n",
    "\n",
    "a.  Degree assortativity: tendency for highly connected nodes to be connected among themselves."
   ]
  },
  {
   "cell_type": "code",
   "execution_count": null,
   "id": "5f120e77",
   "metadata": {},
   "outputs": [],
   "source": [
    "net.degree_assortativity_coefficient(EliteNet)"
   ]
  },
  {
   "cell_type": "markdown",
   "id": "b56e673f",
   "metadata": {},
   "source": [
    "b.  Categorical assortativity: tendency for nodes with other nodes sharing the same category."
   ]
  },
  {
   "cell_type": "code",
   "execution_count": null,
   "id": "a1ef43aa",
   "metadata": {},
   "outputs": [],
   "source": [
    "net.attribute_assortativity_coefficient(EliteNet,'male')"
   ]
  },
  {
   "cell_type": "markdown",
   "id": "ee6ca14b",
   "metadata": {},
   "source": [
    "c. Assortativity (numerical): "
   ]
  },
  {
   "cell_type": "code",
   "execution_count": null,
   "id": "0d0ccf63",
   "metadata": {},
   "outputs": [],
   "source": [
    "net.attribute_assortativity_coefficient(EliteNet,'followers')"
   ]
  },
  {
   "cell_type": "markdown",
   "id": "446ec4f9",
   "metadata": {},
   "source": [
    "## 4. Exploration of Network nodes"
   ]
  },
  {
   "cell_type": "markdown",
   "id": "194c947a",
   "metadata": {},
   "source": [
    "* Centrality: Identify importance of a node based on the role played in the network structure\n",
    "\n",
    "    - The eigenvector of a vertex will tell you how well connected is a vertex; that is, vertices with the highest values are considered the most influential as they are connected to vertices that are also well connected.\n",
    "\n",
    "    - The closeness of a vertex will tell you how close is a vertex to every other vertex. A vertex with high closeness can share information faster than the rest.\n",
    "\n",
    "    - The betweeness of a vertex will tell you how critical is a vertex to connect vertex that are not connected directly."
   ]
  },
  {
   "cell_type": "code",
   "execution_count": null,
   "id": "1cd3dc68",
   "metadata": {},
   "outputs": [],
   "source": [
    "# Computing centrality measures:\n",
    "eigen=net.eigenvector_centrality(EliteNet)  \n",
    "clos=net.closeness_centrality(EliteNet)\n",
    "betw=net.betweenness_centrality(EliteNet,normalized=True)"
   ]
  },
  {
   "cell_type": "code",
   "execution_count": null,
   "id": "a79f9c1d",
   "metadata": {},
   "outputs": [],
   "source": [
    "# the dataframe of centralities\n",
    "DFCentrality=pd.DataFrame(dict(Eigenvector = eigen,\n",
    "                               Closeness = clos,\n",
    "                               Betweenness = betw)) "
   ]
  },
  {
   "cell_type": "code",
   "execution_count": null,
   "id": "ee8ffd37",
   "metadata": {},
   "outputs": [],
   "source": [
    "DFCentrality.reset_index(drop=False,names='person',inplace=True)\n",
    "DFCentrality"
   ]
  },
  {
   "cell_type": "code",
   "execution_count": null,
   "id": "7c1fd236",
   "metadata": {},
   "outputs": [],
   "source": [
    "import matplotlib.pyplot as plt\n",
    "\n",
    "fig, ax = plt.subplots(figsize=(7,7))\n",
    "\n",
    "ax.scatter(DFCentrality.Betweenness, DFCentrality.Closeness,s=(DFCentrality.Eigenvector+1)**10, alpha=0)\n",
    "\n",
    "valsForAnnotate=zip(DFCentrality['person'],DFCentrality['Betweenness'],DFCentrality['Closeness'])\n",
    "\n",
    "for name,coordX,coordY in valsForAnnotate:\n",
    "    ax.annotate(name, (coordX,coordY),alpha=0.5,size=7)\n",
    "    \n",
    "plt.title(\"scatterplot (size for Eigenvector of node)\")\n",
    "plt.xlabel(\"Betweenness\")\n",
    "plt.ylabel(\"Closeness\")\n",
    "plt.show()"
   ]
  },
  {
   "cell_type": "markdown",
   "id": "1008077a",
   "metadata": {},
   "source": [
    "The previous results tells us thet two people are salient:"
   ]
  },
  {
   "cell_type": "code",
   "execution_count": null,
   "id": "5c111524",
   "metadata": {},
   "outputs": [],
   "source": [
    "# Determine the hub name:\n",
    "HubNodes=DFCentrality.nlargest(2, 'Eigenvector')['person']\n",
    "\n",
    "HubNodes"
   ]
  },
  {
   "cell_type": "code",
   "execution_count": null,
   "id": "49b422e5",
   "metadata": {},
   "outputs": [],
   "source": [
    "labelsHubs = {}    \n",
    "for node in EliteNet.nodes():\n",
    "    if node in HubNodes.to_list():\n",
    "        #set the node name as the key and the label as its value \n",
    "        labelsHubs[node] = node\n",
    "        \n",
    "labelsHubs"
   ]
  },
  {
   "cell_type": "code",
   "execution_count": null,
   "id": "7b872e06",
   "metadata": {},
   "outputs": [],
   "source": [
    "EliteNet_nonHub=EliteNet.copy()\n",
    "EliteNet_nonHub.remove_nodes_from(HubNodes)"
   ]
  },
  {
   "cell_type": "code",
   "execution_count": null,
   "id": "3c63bd2d",
   "metadata": {},
   "outputs": [],
   "source": [
    "# prepare to plot:\n",
    "fig, ax = plt.subplots(figsize=(7,7))\n",
    "\n",
    "## positions of the nodes\n",
    "pos=net.spring_layout(EliteNet)\n",
    "\n",
    "#edges\n",
    "net.draw_networkx_edges(EliteNet,pos,edge_color='grey',alpha=0.2)\n",
    "# non hubs\n",
    "net.draw_networkx_nodes(EliteNet_nonHub,pos,node_size=10,node_color='grey')\n",
    "# make the hub salient\n",
    "net.draw_networkx_nodes(EliteNet,pos,nodelist=HubNodes.to_list(),node_size=200,node_color='r')\n",
    "# label the hubs\n",
    "net.draw_networkx_labels(EliteNet,pos,labels,font_size=8,font_color='blue')\n",
    "\n",
    "plt.show()"
   ]
  },
  {
   "cell_type": "markdown",
   "id": "3f1b80b1",
   "metadata": {},
   "source": [
    "## 5. Community"
   ]
  },
  {
   "cell_type": "code",
   "execution_count": 24,
   "id": "757ba55d",
   "metadata": {},
   "outputs": [
    {
     "data": {
      "text/plain": [
       "(['BradSmi',\n",
       "  'DaveParkerSEA',\n",
       "  'JenMsft',\n",
       "  'Jenerationy',\n",
       "  'KieranSnyder',\n",
       "  'Kristen_Hammy',\n",
       "  'LeslieFeinzaig',\n",
       "  'MissDestructo',\n",
       "  'PeterHamilton',\n",
       "  'RajSinghSeattle',\n",
       "  'Rich_Barton',\n",
       "  'Ryanintheus',\n",
       "  'ShaunaCausey',\n",
       "  'SoGulley',\n",
       "  'akipman',\n",
       "  'ashannstew',\n",
       "  'crashdev',\n",
       "  'danshapiro',\n",
       "  'daryn',\n",
       "  'etzioni',\n",
       "  'eugenio_pace',\n",
       "  'funcOfJoe',\n",
       "  'gilbert',\n",
       "  'hadip',\n",
       "  'heatherredman',\n",
       "  'jinman',\n",
       "  'john_gabbert',\n",
       "  'juliesandler',\n",
       "  'kirbywinfield',\n",
       "  'lanctot',\n",
       "  'lovelletters',\n",
       "  'marybethlambert',\n",
       "  'matt_oppy',\n",
       "  'mattmcilwain',\n",
       "  'mattmday',\n",
       "  'mcolacurcio',\n",
       "  'medinism',\n",
       "  'moniguzman',\n",
       "  'nhuntwalker',\n",
       "  'rachelerman',\n",
       "  'sarahstood',\n",
       "  'sonalpmane',\n",
       "  'stevesi',\n",
       "  'tarah',\n",
       "  'toddbishop'],\n",
       " ['2morrowknight'])"
      ]
     },
     "execution_count": 24,
     "metadata": {},
     "output_type": "execute_result"
    }
   ],
   "source": [
    "EliteNet_split = net.community.girvan_newman(EliteNet)\n",
    "EliteNet_tuple = tuple(sorted(c) for c in next(EliteNet_split))\n",
    "EliteNet_tuple"
   ]
  },
  {
   "cell_type": "code",
   "execution_count": 25,
   "id": "1bf840f3",
   "metadata": {},
   "outputs": [
    {
     "ename": "ImportError",
     "evalue": "DLL load failed while importing _imaging: No se puede encontrar el módulo especificado.",
     "output_type": "error",
     "traceback": [
      "\u001b[1;31m---------------------------------------------------------------------------\u001b[0m",
      "\u001b[1;31mImportError\u001b[0m                               Traceback (most recent call last)",
      "Cell \u001b[1;32mIn[25], line 4\u001b[0m\n\u001b[0;32m      2\u001b[0m colors \u001b[38;5;241m=\u001b[39m \u001b[38;5;124m'\u001b[39m\u001b[38;5;124mrgb\u001b[39m\u001b[38;5;124m'\u001b[39m\n\u001b[0;32m      3\u001b[0m \u001b[38;5;28;01mfor\u001b[39;00m i, nodes \u001b[38;5;129;01min\u001b[39;00m \u001b[38;5;28menumerate\u001b[39m(EliteNet_tuple):\n\u001b[1;32m----> 4\u001b[0m     net\u001b[38;5;241m.\u001b[39mdraw_networkx_nodes(EliteNet, pos\u001b[38;5;241m=\u001b[39mpos, nodelist\u001b[38;5;241m=\u001b[39mnodes, node_color\u001b[38;5;241m=\u001b[39mcolors[i])\n\u001b[0;32m      6\u001b[0m net\u001b[38;5;241m.\u001b[39mdraw_networkx_edges(EliteNet,pos\u001b[38;5;241m=\u001b[39mpos)\n",
      "File \u001b[1;32m~\\Anaconda3\\envs\\spatial311\\Lib\\site-packages\\networkx\\drawing\\nx_pylab.py:410\u001b[0m, in \u001b[0;36mdraw_networkx_nodes\u001b[1;34m(G, pos, nodelist, node_size, node_color, node_shape, alpha, cmap, vmin, vmax, ax, linewidths, edgecolors, label, margins)\u001b[0m\n\u001b[0;32m    327\u001b[0m \u001b[38;5;250m\u001b[39m\u001b[38;5;124;03m\"\"\"Draw the nodes of the graph G.\u001b[39;00m\n\u001b[0;32m    328\u001b[0m \n\u001b[0;32m    329\u001b[0m \u001b[38;5;124;03mThis draws only the nodes of the graph G.\u001b[39;00m\n\u001b[1;32m   (...)\u001b[0m\n\u001b[0;32m    406\u001b[0m \u001b[38;5;124;03mdraw_networkx_edge_labels\u001b[39;00m\n\u001b[0;32m    407\u001b[0m \u001b[38;5;124;03m\"\"\"\u001b[39;00m\n\u001b[0;32m    408\u001b[0m \u001b[38;5;28;01mfrom\u001b[39;00m \u001b[38;5;21;01mcollections\u001b[39;00m\u001b[38;5;21;01m.\u001b[39;00m\u001b[38;5;21;01mabc\u001b[39;00m \u001b[38;5;28;01mimport\u001b[39;00m Iterable\n\u001b[1;32m--> 410\u001b[0m \u001b[38;5;28;01mimport\u001b[39;00m \u001b[38;5;21;01mmatplotlib\u001b[39;00m \u001b[38;5;28;01mas\u001b[39;00m \u001b[38;5;21;01mmpl\u001b[39;00m\n\u001b[0;32m    411\u001b[0m \u001b[38;5;28;01mimport\u001b[39;00m \u001b[38;5;21;01mmatplotlib\u001b[39;00m\u001b[38;5;21;01m.\u001b[39;00m\u001b[38;5;21;01mcollections\u001b[39;00m  \u001b[38;5;66;03m# call as mpl.collections\u001b[39;00m\n\u001b[0;32m    412\u001b[0m \u001b[38;5;28;01mimport\u001b[39;00m \u001b[38;5;21;01mmatplotlib\u001b[39;00m\u001b[38;5;21;01m.\u001b[39;00m\u001b[38;5;21;01mpyplot\u001b[39;00m \u001b[38;5;28;01mas\u001b[39;00m \u001b[38;5;21;01mplt\u001b[39;00m\n",
      "File \u001b[1;32m~\\Anaconda3\\envs\\spatial311\\Lib\\site-packages\\matplotlib\\__init__.py:131\u001b[0m\n\u001b[0;32m    127\u001b[0m \u001b[38;5;28;01mfrom\u001b[39;00m \u001b[38;5;21;01mpackaging\u001b[39;00m\u001b[38;5;21;01m.\u001b[39;00m\u001b[38;5;21;01mversion\u001b[39;00m \u001b[38;5;28;01mimport\u001b[39;00m parse \u001b[38;5;28;01mas\u001b[39;00m parse_version\n\u001b[0;32m    129\u001b[0m \u001b[38;5;66;03m# cbook must import matplotlib only within function\u001b[39;00m\n\u001b[0;32m    130\u001b[0m \u001b[38;5;66;03m# definitions, so it is safe to import from it here.\u001b[39;00m\n\u001b[1;32m--> 131\u001b[0m \u001b[38;5;28;01mfrom\u001b[39;00m \u001b[38;5;21;01m.\u001b[39;00m \u001b[38;5;28;01mimport\u001b[39;00m _api, _version, cbook, _docstring, rcsetup\n\u001b[0;32m    132\u001b[0m \u001b[38;5;28;01mfrom\u001b[39;00m \u001b[38;5;21;01mmatplotlib\u001b[39;00m\u001b[38;5;21;01m.\u001b[39;00m\u001b[38;5;21;01mcbook\u001b[39;00m \u001b[38;5;28;01mimport\u001b[39;00m sanitize_sequence\n\u001b[0;32m    133\u001b[0m \u001b[38;5;28;01mfrom\u001b[39;00m \u001b[38;5;21;01mmatplotlib\u001b[39;00m\u001b[38;5;21;01m.\u001b[39;00m\u001b[38;5;21;01m_api\u001b[39;00m \u001b[38;5;28;01mimport\u001b[39;00m MatplotlibDeprecationWarning\n",
      "File \u001b[1;32m~\\Anaconda3\\envs\\spatial311\\Lib\\site-packages\\matplotlib\\rcsetup.py:27\u001b[0m\n\u001b[0;32m     25\u001b[0m \u001b[38;5;28;01mfrom\u001b[39;00m \u001b[38;5;21;01mmatplotlib\u001b[39;00m \u001b[38;5;28;01mimport\u001b[39;00m _api, cbook\n\u001b[0;32m     26\u001b[0m \u001b[38;5;28;01mfrom\u001b[39;00m \u001b[38;5;21;01mmatplotlib\u001b[39;00m\u001b[38;5;21;01m.\u001b[39;00m\u001b[38;5;21;01mcbook\u001b[39;00m \u001b[38;5;28;01mimport\u001b[39;00m ls_mapper\n\u001b[1;32m---> 27\u001b[0m \u001b[38;5;28;01mfrom\u001b[39;00m \u001b[38;5;21;01mmatplotlib\u001b[39;00m\u001b[38;5;21;01m.\u001b[39;00m\u001b[38;5;21;01mcolors\u001b[39;00m \u001b[38;5;28;01mimport\u001b[39;00m Colormap, is_color_like\n\u001b[0;32m     28\u001b[0m \u001b[38;5;28;01mfrom\u001b[39;00m \u001b[38;5;21;01mmatplotlib\u001b[39;00m\u001b[38;5;21;01m.\u001b[39;00m\u001b[38;5;21;01m_fontconfig_pattern\u001b[39;00m \u001b[38;5;28;01mimport\u001b[39;00m parse_fontconfig_pattern\n\u001b[0;32m     29\u001b[0m \u001b[38;5;28;01mfrom\u001b[39;00m \u001b[38;5;21;01mmatplotlib\u001b[39;00m\u001b[38;5;21;01m.\u001b[39;00m\u001b[38;5;21;01m_enums\u001b[39;00m \u001b[38;5;28;01mimport\u001b[39;00m JoinStyle, CapStyle\n",
      "File \u001b[1;32m~\\Anaconda3\\envs\\spatial311\\Lib\\site-packages\\matplotlib\\colors.py:51\u001b[0m\n\u001b[0;32m     49\u001b[0m \u001b[38;5;28;01mfrom\u001b[39;00m \u001b[38;5;21;01mnumbers\u001b[39;00m \u001b[38;5;28;01mimport\u001b[39;00m Number\n\u001b[0;32m     50\u001b[0m \u001b[38;5;28;01mimport\u001b[39;00m \u001b[38;5;21;01mre\u001b[39;00m\n\u001b[1;32m---> 51\u001b[0m \u001b[38;5;28;01mfrom\u001b[39;00m \u001b[38;5;21;01mPIL\u001b[39;00m \u001b[38;5;28;01mimport\u001b[39;00m Image\n\u001b[0;32m     52\u001b[0m \u001b[38;5;28;01mfrom\u001b[39;00m \u001b[38;5;21;01mPIL\u001b[39;00m\u001b[38;5;21;01m.\u001b[39;00m\u001b[38;5;21;01mPngImagePlugin\u001b[39;00m \u001b[38;5;28;01mimport\u001b[39;00m PngInfo\n\u001b[0;32m     54\u001b[0m \u001b[38;5;28;01mimport\u001b[39;00m \u001b[38;5;21;01mmatplotlib\u001b[39;00m \u001b[38;5;28;01mas\u001b[39;00m \u001b[38;5;21;01mmpl\u001b[39;00m\n",
      "File \u001b[1;32m~\\Anaconda3\\envs\\spatial311\\Lib\\site-packages\\PIL\\Image.py:103\u001b[0m\n\u001b[0;32m     94\u001b[0m MAX_IMAGE_PIXELS \u001b[38;5;241m=\u001b[39m \u001b[38;5;28mint\u001b[39m(\u001b[38;5;241m1024\u001b[39m \u001b[38;5;241m*\u001b[39m \u001b[38;5;241m1024\u001b[39m \u001b[38;5;241m*\u001b[39m \u001b[38;5;241m1024\u001b[39m \u001b[38;5;241m/\u001b[39m\u001b[38;5;241m/\u001b[39m \u001b[38;5;241m4\u001b[39m \u001b[38;5;241m/\u001b[39m\u001b[38;5;241m/\u001b[39m \u001b[38;5;241m3\u001b[39m)\n\u001b[0;32m     97\u001b[0m \u001b[38;5;28;01mtry\u001b[39;00m:\n\u001b[0;32m     98\u001b[0m     \u001b[38;5;66;03m# If the _imaging C module is not present, Pillow will not load.\u001b[39;00m\n\u001b[0;32m     99\u001b[0m     \u001b[38;5;66;03m# Note that other modules should not refer to _imaging directly;\u001b[39;00m\n\u001b[0;32m    100\u001b[0m     \u001b[38;5;66;03m# import Image and use the Image.core variable instead.\u001b[39;00m\n\u001b[0;32m    101\u001b[0m     \u001b[38;5;66;03m# Also note that Image.core is not a publicly documented interface,\u001b[39;00m\n\u001b[0;32m    102\u001b[0m     \u001b[38;5;66;03m# and should be considered private and subject to change.\u001b[39;00m\n\u001b[1;32m--> 103\u001b[0m     \u001b[38;5;28;01mfrom\u001b[39;00m \u001b[38;5;21;01m.\u001b[39;00m \u001b[38;5;28;01mimport\u001b[39;00m _imaging \u001b[38;5;28;01mas\u001b[39;00m core\n\u001b[0;32m    105\u001b[0m     \u001b[38;5;28;01mif\u001b[39;00m __version__ \u001b[38;5;241m!=\u001b[39m \u001b[38;5;28mgetattr\u001b[39m(core, \u001b[38;5;124m\"\u001b[39m\u001b[38;5;124mPILLOW_VERSION\u001b[39m\u001b[38;5;124m\"\u001b[39m, \u001b[38;5;28;01mNone\u001b[39;00m):\n\u001b[0;32m    106\u001b[0m         msg \u001b[38;5;241m=\u001b[39m (\n\u001b[0;32m    107\u001b[0m             \u001b[38;5;124m\"\u001b[39m\u001b[38;5;124mThe _imaging extension was built for another version of Pillow or PIL:\u001b[39m\u001b[38;5;130;01m\\n\u001b[39;00m\u001b[38;5;124m\"\u001b[39m\n\u001b[0;32m    108\u001b[0m             \u001b[38;5;124mf\u001b[39m\u001b[38;5;124m\"\u001b[39m\u001b[38;5;124mCore version: \u001b[39m\u001b[38;5;132;01m{\u001b[39;00m\u001b[38;5;28mgetattr\u001b[39m(core,\u001b[38;5;250m \u001b[39m\u001b[38;5;124m'\u001b[39m\u001b[38;5;124mPILLOW_VERSION\u001b[39m\u001b[38;5;124m'\u001b[39m,\u001b[38;5;250m \u001b[39m\u001b[38;5;28;01mNone\u001b[39;00m)\u001b[38;5;132;01m}\u001b[39;00m\u001b[38;5;130;01m\\n\u001b[39;00m\u001b[38;5;124m\"\u001b[39m\n\u001b[0;32m    109\u001b[0m             \u001b[38;5;124mf\u001b[39m\u001b[38;5;124m\"\u001b[39m\u001b[38;5;124mPillow version: \u001b[39m\u001b[38;5;132;01m{\u001b[39;00m__version__\u001b[38;5;132;01m}\u001b[39;00m\u001b[38;5;124m\"\u001b[39m\n\u001b[0;32m    110\u001b[0m         )\n",
      "\u001b[1;31mImportError\u001b[0m: DLL load failed while importing _imaging: No se puede encontrar el módulo especificado."
     ]
    }
   ],
   "source": [
    "pos = net.spring_layout(EliteNet)\n",
    "colors = 'rgb'\n",
    "for i, nodes in enumerate(EliteNet_tuple):\n",
    "    net.draw_networkx_nodes(EliteNet, pos=pos, nodelist=nodes, node_color=colors[i])\n",
    "\n",
    "net.draw_networkx_edges(EliteNet,pos=pos)"
   ]
  },
  {
   "cell_type": "code",
   "execution_count": null,
   "id": "3265f013",
   "metadata": {},
   "outputs": [],
   "source": []
  }
 ],
 "metadata": {
  "kernelspec": {
   "display_name": "Python 3 (ipykernel)",
   "language": "python",
   "name": "python3"
  },
  "language_info": {
   "codemirror_mode": {
    "name": "ipython",
    "version": 3
   },
   "file_extension": ".py",
   "mimetype": "text/x-python",
   "name": "python",
   "nbconvert_exporter": "python",
   "pygments_lexer": "ipython3",
   "version": "3.11.3"
  }
 },
 "nbformat": 4,
 "nbformat_minor": 5
}
