{
 "cells": [
  {
   "cell_type": "markdown",
   "id": "5acb2d77",
   "metadata": {},
   "source": [
    "# Gentle introduction to social networks in Python\n",
    "\n",
    "### Prof. Jose Manuel MAGALLANES.\n",
    "* Professor at Pontificia Universidad Católica del Peru\n",
    "* Senior Data Scientist at eScience Institute, University of Washington\n",
    "\n",
    "_______\n",
    "\n",
    "\n",
    "## CONTENTS:\n",
    "\n",
    "### 1. Network from dataframes\n",
    "\n",
    "\n",
    "These data frames have been previously prepared, based on the data from [50 influential people in Seattle tech to follow on Twitter](https://www.builtinseattle.com/2018/08/06/50-seattle-tech-twitter-accounts-to-follow). The file can be seen [here](https://docs.google.com/spreadsheets/d/e/2PACX-1vTpWvtfphnO9eRYwmEyxVAxxo1KEsdpK6sK6q5uhJn5x2QtB-eGiso8ibpF16NaHAers4wDIHkvBo64/pubhtml), and includes 3 sheets:\n",
    "\n",
    "* Network as two columns representing edges.\n",
    "* Network as adjacency matrix.\n",
    "* Attributes of the Network nodes."
   ]
  },
  {
   "cell_type": "code",
   "execution_count": 1,
   "id": "445ce0aa",
   "metadata": {},
   "outputs": [],
   "source": [
    "fileLink='https://github.com/eScience-UW/gentleIntro_networks/raw/main/data/seattleTop.xlsx'\n",
    "\n",
    "import pandas as pd\n",
    "\n",
    "edges=pd.read_excel(io=fileLink,sheet_name=\"edges\")\n",
    "adjacency=pd.read_excel(io=fileLink,sheet_name=\"adjacency\",index_col=0)# index_col!\n",
    "attributes=pd.read_excel(io=fileLink,sheet_name=\"attributes\")"
   ]
  },
  {
   "cell_type": "markdown",
   "id": "20ef59e8",
   "metadata": {},
   "source": [
    "Use the previous dataframes to create the network:\n",
    "\n",
    "* From the edges:"
   ]
  },
  {
   "cell_type": "code",
   "execution_count": 2,
   "id": "2f97c276",
   "metadata": {},
   "outputs": [],
   "source": [
    "import networkx as net # package needed\n",
    "\n",
    "EliteNet =net.from_pandas_edgelist(edges)\n"
   ]
  },
  {
   "cell_type": "code",
   "execution_count": 3,
   "id": "2e18cd6f",
   "metadata": {},
   "outputs": [
    {
     "data": {
      "text/plain": [
       "(<networkx.classes.graph.Graph at 0x288032a1070>, 46, 393)"
      ]
     },
     "execution_count": 3,
     "metadata": {},
     "output_type": "execute_result"
    }
   ],
   "source": [
    "\n",
    "EliteNet,len(EliteNet.nodes),len(EliteNet.edges)"
   ]
  },
  {
   "cell_type": "markdown",
   "id": "1519aeb2",
   "metadata": {},
   "source": [
    "* From the adjacency:"
   ]
  },
  {
   "cell_type": "code",
   "execution_count": 4,
   "id": "41a074dc",
   "metadata": {},
   "outputs": [],
   "source": [
    "\n",
    "EliteNet = net.Graph(adjacency)\n"
   ]
  },
  {
   "cell_type": "code",
   "execution_count": 5,
   "id": "fdf1d806",
   "metadata": {},
   "outputs": [
    {
     "data": {
      "text/plain": [
       "(<networkx.classes.graph.Graph at 0x28803403220>, 46, 393)"
      ]
     },
     "execution_count": 5,
     "metadata": {},
     "output_type": "execute_result"
    }
   ],
   "source": [
    "EliteNet,len(EliteNet.nodes),len(EliteNet.edges)"
   ]
  },
  {
   "cell_type": "code",
   "execution_count": 8,
   "id": "950a504a",
   "metadata": {
    "scrolled": false
   },
   "outputs": [
    {
     "data": {
      "text/plain": [
       "EdgeDataView([('rachelerman', 'mattmcilwain', {'weight': 1}), ('rachelerman', 'DaveParkerSEA', {'weight': 1}), ('rachelerman', 'toddbishop', {'weight': 1}), ('rachelerman', 'ashannstew', {'weight': 1}), ('rachelerman', 'LeslieFeinzaig', {'weight': 1}), ('rachelerman', 'akipman', {'weight': 1}), ('rachelerman', 'matt_oppy', {'weight': 1}), ('rachelerman', 'gilbert', {'weight': 1}), ('rachelerman', 'juliesandler', {'weight': 1}), ('rachelerman', 'BradSmi', {'weight': 1}), ('rachelerman', 'crashdev', {'weight': 1}), ('rachelerman', 'ShaunaCausey', {'weight': 1}), ('rachelerman', 'john_gabbert', {'weight': 1}), ('rachelerman', 'moniguzman', {'weight': 1}), ('rachelerman', 'mattmday', {'weight': 1}), ('rachelerman', 'Rich_Barton', {'weight': 1}), ('rachelerman', 'daryn', {'weight': 1}), ('rachelerman', 'lovelletters', {'weight': 1}), ('rachelerman', 'etzioni', {'weight': 1}), ('rachelerman', 'MissDestructo', {'weight': 1}), ('rachelerman', 'heatherredman', {'weight': 1}), ('rachelerman', 'danshapiro', {'weight': 1}), ('rachelerman', 'medinism', {'weight': 1}), ('rachelerman', 'KieranSnyder', {'weight': 1}), ('rachelerman', 'hadip', {'weight': 1}), ('rachelerman', 'RajSinghSeattle', {'weight': 1}), ('rachelerman', 'Ryanintheus', {'weight': 1}), ('rachelerman', 'sonalpmane', {'weight': 1}), ('rachelerman', 'Jenerationy', {'weight': 1}), ('rachelerman', 'marybethlambert', {'weight': 1}), ('mattmcilwain', 'toddbishop', {'weight': 1}), ('mattmcilwain', 'ashannstew', {'weight': 1}), ('mattmcilwain', 'matt_oppy', {'weight': 1}), ('mattmcilwain', 'gilbert', {'weight': 1}), ('mattmcilwain', 'juliesandler', {'weight': 1}), ('mattmcilwain', 'ShaunaCausey', {'weight': 1}), ('mattmcilwain', 'mattmday', {'weight': 1}), ('mattmcilwain', 'Rich_Barton', {'weight': 1}), ('mattmcilwain', 'lovelletters', {'weight': 1}), ('mattmcilwain', 'etzioni', {'weight': 1}), ('mattmcilwain', 'MissDestructo', {'weight': 1}), ('mattmcilwain', 'RajSinghSeattle', {'weight': 1}), ('mattmcilwain', 'funcOfJoe', {'weight': 1}), ('mattmcilwain', 'kirbywinfield', {'weight': 1}), ('mattmcilwain', 'Kristen_Hammy', {'weight': 1}), ('DaveParkerSEA', 'toddbishop', {'weight': 1}), ('DaveParkerSEA', 'ashannstew', {'weight': 1}), ('DaveParkerSEA', 'LeslieFeinzaig', {'weight': 1}), ('DaveParkerSEA', 'matt_oppy', {'weight': 1}), ('DaveParkerSEA', 'gilbert', {'weight': 1}), ('DaveParkerSEA', 'juliesandler', {'weight': 1}), ('DaveParkerSEA', 'crashdev', {'weight': 1}), ('DaveParkerSEA', 'ShaunaCausey', {'weight': 1}), ('DaveParkerSEA', 'john_gabbert', {'weight': 1}), ('DaveParkerSEA', 'moniguzman', {'weight': 1}), ('DaveParkerSEA', 'mattmday', {'weight': 1}), ('DaveParkerSEA', 'Rich_Barton', {'weight': 1}), ('DaveParkerSEA', 'lovelletters', {'weight': 1}), ('DaveParkerSEA', 'etzioni', {'weight': 1}), ('DaveParkerSEA', 'MissDestructo', {'weight': 1}), ('DaveParkerSEA', 'heatherredman', {'weight': 1}), ('DaveParkerSEA', 'danshapiro', {'weight': 1}), ('DaveParkerSEA', 'medinism', {'weight': 1}), ('DaveParkerSEA', 'KieranSnyder', {'weight': 1}), ('DaveParkerSEA', 'hadip', {'weight': 1}), ('DaveParkerSEA', 'RajSinghSeattle', {'weight': 1}), ('DaveParkerSEA', 'funcOfJoe', {'weight': 1}), ('DaveParkerSEA', 'kirbywinfield', {'weight': 1}), ('DaveParkerSEA', 'stevesi', {'weight': 1}), ('DaveParkerSEA', 'Ryanintheus', {'weight': 1}), ('DaveParkerSEA', 'sonalpmane', {'weight': 1}), ('DaveParkerSEA', 'SoGulley', {'weight': 1}), ('DaveParkerSEA', '2morrowknight', {'weight': 1}), ('DaveParkerSEA', 'jinman', {'weight': 1}), ('DaveParkerSEA', 'tarah', {'weight': 1}), ('DaveParkerSEA', 'Jenerationy', {'weight': 1}), ('DaveParkerSEA', 'lanctot', {'weight': 1}), ('DaveParkerSEA', 'Kristen_Hammy', {'weight': 1}), ('DaveParkerSEA', 'nhuntwalker', {'weight': 1}), ('DaveParkerSEA', 'eugenio_pace', {'weight': 1}), ('toddbishop', 'ashannstew', {'weight': 1}), ('toddbishop', 'LeslieFeinzaig', {'weight': 1}), ('toddbishop', 'akipman', {'weight': 1}), ('toddbishop', 'matt_oppy', {'weight': 1}), ('toddbishop', 'gilbert', {'weight': 1}), ('toddbishop', 'juliesandler', {'weight': 1}), ('toddbishop', 'BradSmi', {'weight': 1}), ('toddbishop', 'crashdev', {'weight': 1}), ('toddbishop', 'ShaunaCausey', {'weight': 1}), ('toddbishop', 'john_gabbert', {'weight': 1}), ('toddbishop', 'moniguzman', {'weight': 1}), ('toddbishop', 'mattmday', {'weight': 1}), ('toddbishop', 'Rich_Barton', {'weight': 1}), ('toddbishop', 'daryn', {'weight': 1}), ('toddbishop', 'lovelletters', {'weight': 1}), ('toddbishop', 'etzioni', {'weight': 1}), ('toddbishop', 'MissDestructo', {'weight': 1}), ('toddbishop', 'heatherredman', {'weight': 1}), ('toddbishop', 'danshapiro', {'weight': 1}), ('toddbishop', 'medinism', {'weight': 1}), ('toddbishop', 'KieranSnyder', {'weight': 1}), ('toddbishop', 'hadip', {'weight': 1}), ('toddbishop', 'RajSinghSeattle', {'weight': 1}), ('toddbishop', 'funcOfJoe', {'weight': 1}), ('toddbishop', 'kirbywinfield', {'weight': 1}), ('toddbishop', 'stevesi', {'weight': 1}), ('toddbishop', 'Ryanintheus', {'weight': 1}), ('toddbishop', 'SoGulley', {'weight': 1}), ('toddbishop', 'jinman', {'weight': 1}), ('toddbishop', 'tarah', {'weight': 1}), ('toddbishop', 'Jenerationy', {'weight': 1}), ('toddbishop', 'lanctot', {'weight': 1}), ('toddbishop', 'Kristen_Hammy', {'weight': 1}), ('toddbishop', 'JenMsft', {'weight': 1}), ('toddbishop', 'PeterHamilton', {'weight': 1}), ('toddbishop', 'sarahstood', {'weight': 1}), ('toddbishop', 'mcolacurcio', {'weight': 1}), ('toddbishop', 'marybethlambert', {'weight': 1}), ('ashannstew', 'LeslieFeinzaig', {'weight': 1}), ('ashannstew', 'matt_oppy', {'weight': 1}), ('ashannstew', 'gilbert', {'weight': 1}), ('ashannstew', 'juliesandler', {'weight': 1}), ('ashannstew', 'crashdev', {'weight': 1}), ('ashannstew', 'moniguzman', {'weight': 1}), ('ashannstew', 'mattmday', {'weight': 1}), ('ashannstew', 'lovelletters', {'weight': 1}), ('ashannstew', 'heatherredman', {'weight': 1}), ('ashannstew', 'hadip', {'weight': 1}), ('ashannstew', 'RajSinghSeattle', {'weight': 1}), ('ashannstew', 'stevesi', {'weight': 1}), ('ashannstew', 'Jenerationy', {'weight': 1}), ('ashannstew', 'lanctot', {'weight': 1}), ('LeslieFeinzaig', 'matt_oppy', {'weight': 1}), ('LeslieFeinzaig', 'juliesandler', {'weight': 1}), ('LeslieFeinzaig', 'ShaunaCausey', {'weight': 1}), ('LeslieFeinzaig', 'moniguzman', {'weight': 1}), ('LeslieFeinzaig', 'lovelletters', {'weight': 1}), ('LeslieFeinzaig', 'MissDestructo', {'weight': 1}), ('LeslieFeinzaig', 'heatherredman', {'weight': 1}), ('LeslieFeinzaig', 'KieranSnyder', {'weight': 1}), ('LeslieFeinzaig', 'kirbywinfield', {'weight': 1}), ('LeslieFeinzaig', 'stevesi', {'weight': 1}), ('LeslieFeinzaig', 'Ryanintheus', {'weight': 1}), ('LeslieFeinzaig', 'sonalpmane', {'weight': 1}), ('LeslieFeinzaig', 'SoGulley', {'weight': 1}), ('LeslieFeinzaig', 'mcolacurcio', {'weight': 1}), ('akipman', 'BradSmi', {'weight': 1}), ('akipman', 'mattmday', {'weight': 1}), ('akipman', 'MissDestructo', {'weight': 1}), ('akipman', 'JenMsft', {'weight': 1}), ('matt_oppy', 'gilbert', {'weight': 1}), ('matt_oppy', 'juliesandler', {'weight': 1}), ('matt_oppy', 'crashdev', {'weight': 1}), ('matt_oppy', 'ShaunaCausey', {'weight': 1}), ('matt_oppy', 'john_gabbert', {'weight': 1}), ('matt_oppy', 'moniguzman', {'weight': 1}), ('matt_oppy', 'Rich_Barton', {'weight': 1}), ('matt_oppy', 'lovelletters', {'weight': 1}), ('matt_oppy', 'etzioni', {'weight': 1}), ('matt_oppy', 'heatherredman', {'weight': 1}), ('matt_oppy', 'danshapiro', {'weight': 1}), ('matt_oppy', 'medinism', {'weight': 1}), ('matt_oppy', 'KieranSnyder', {'weight': 1}), ('matt_oppy', 'RajSinghSeattle', {'weight': 1}), ('matt_oppy', 'kirbywinfield', {'weight': 1}), ('matt_oppy', 'stevesi', {'weight': 1}), ('matt_oppy', 'Jenerationy', {'weight': 1}), ('matt_oppy', 'Kristen_Hammy', {'weight': 1}), ('matt_oppy', 'eugenio_pace', {'weight': 1}), ('matt_oppy', 'PeterHamilton', {'weight': 1}), ('gilbert', 'juliesandler', {'weight': 1}), ('gilbert', 'moniguzman', {'weight': 1}), ('gilbert', 'Rich_Barton', {'weight': 1}), ('gilbert', 'daryn', {'weight': 1}), ('gilbert', 'etzioni', {'weight': 1}), ('gilbert', 'MissDestructo', {'weight': 1}), ('gilbert', 'heatherredman', {'weight': 1}), ('gilbert', 'KieranSnyder', {'weight': 1}), ('gilbert', 'kirbywinfield', {'weight': 1}), ('gilbert', 'stevesi', {'weight': 1}), ('gilbert', 'Jenerationy', {'weight': 1}), ('gilbert', 'lanctot', {'weight': 1}), ('juliesandler', 'BradSmi', {'weight': 1}), ('juliesandler', 'crashdev', {'weight': 1}), ('juliesandler', 'ShaunaCausey', {'weight': 1}), ('juliesandler', 'john_gabbert', {'weight': 1}), ('juliesandler', 'moniguzman', {'weight': 1}), ('juliesandler', 'mattmday', {'weight': 1}), ('juliesandler', 'Rich_Barton', {'weight': 1}), ('juliesandler', 'daryn', {'weight': 1}), ('juliesandler', 'lovelletters', {'weight': 1}), ('juliesandler', 'etzioni', {'weight': 1}), ('juliesandler', 'MissDestructo', {'weight': 1}), ('juliesandler', 'heatherredman', {'weight': 1}), ('juliesandler', 'danshapiro', {'weight': 1}), ('juliesandler', 'KieranSnyder', {'weight': 1}), ('juliesandler', 'hadip', {'weight': 1}), ('juliesandler', 'RajSinghSeattle', {'weight': 1}), ('juliesandler', 'funcOfJoe', {'weight': 1}), ('juliesandler', 'kirbywinfield', {'weight': 1}), ('juliesandler', 'sonalpmane', {'weight': 1}), ('juliesandler', 'SoGulley', {'weight': 1}), ('juliesandler', 'Jenerationy', {'weight': 1}), ('juliesandler', 'Kristen_Hammy', {'weight': 1}), ('juliesandler', 'sarahstood', {'weight': 1}), ('BradSmi', 'mattmday', {'weight': 1}), ('BradSmi', 'Rich_Barton', {'weight': 1}), ('BradSmi', 'etzioni', {'weight': 1}), ('BradSmi', 'heatherredman', {'weight': 1}), ('BradSmi', 'hadip', {'weight': 1}), ('BradSmi', 'RajSinghSeattle', {'weight': 1}), ('BradSmi', 'SoGulley', {'weight': 1}), ('BradSmi', 'lanctot', {'weight': 1}), ('BradSmi', 'JenMsft', {'weight': 1}), ('crashdev', 'john_gabbert', {'weight': 1}), ('crashdev', 'Rich_Barton', {'weight': 1}), ('crashdev', 'lovelletters', {'weight': 1}), ('crashdev', 'etzioni', {'weight': 1}), ('crashdev', 'heatherredman', {'weight': 1}), ('crashdev', 'danshapiro', {'weight': 1}), ('crashdev', 'medinism', {'weight': 1}), ('crashdev', 'hadip', {'weight': 1}), ('crashdev', 'RajSinghSeattle', {'weight': 1}), ('crashdev', 'kirbywinfield', {'weight': 1}), ('crashdev', 'stevesi', {'weight': 1}), ('crashdev', 'sonalpmane', {'weight': 1}), ('crashdev', 'SoGulley', {'weight': 1}), ('crashdev', 'jinman', {'weight': 1}), ('crashdev', 'Jenerationy', {'weight': 1}), ('crashdev', 'Kristen_Hammy', {'weight': 1}), ('crashdev', 'eugenio_pace', {'weight': 1}), ('crashdev', 'PeterHamilton', {'weight': 1}), ('crashdev', 'sarahstood', {'weight': 1}), ('ShaunaCausey', 'john_gabbert', {'weight': 1}), ('ShaunaCausey', 'moniguzman', {'weight': 1}), ('ShaunaCausey', 'Rich_Barton', {'weight': 1}), ('ShaunaCausey', 'daryn', {'weight': 1}), ('ShaunaCausey', 'lovelletters', {'weight': 1}), ('ShaunaCausey', 'etzioni', {'weight': 1}), ('ShaunaCausey', 'MissDestructo', {'weight': 1}), ('ShaunaCausey', 'heatherredman', {'weight': 1}), ('ShaunaCausey', 'KieranSnyder', {'weight': 1}), ('ShaunaCausey', 'hadip', {'weight': 1}), ('ShaunaCausey', 'RajSinghSeattle', {'weight': 1}), ('ShaunaCausey', 'stevesi', {'weight': 1}), ('ShaunaCausey', 'SoGulley', {'weight': 1}), ('ShaunaCausey', 'jinman', {'weight': 1}), ('ShaunaCausey', 'Jenerationy', {'weight': 1}), ('ShaunaCausey', 'lanctot', {'weight': 1}), ('ShaunaCausey', 'Kristen_Hammy', {'weight': 1}), ('ShaunaCausey', 'PeterHamilton', {'weight': 1}), ('ShaunaCausey', 'sarahstood', {'weight': 1}), ('ShaunaCausey', 'mcolacurcio', {'weight': 1}), ('ShaunaCausey', 'marybethlambert', {'weight': 1}), ('moniguzman', 'mattmday', {'weight': 1}), ('moniguzman', 'Rich_Barton', {'weight': 1}), ('moniguzman', 'daryn', {'weight': 1}), ('moniguzman', 'lovelletters', {'weight': 1}), ('moniguzman', 'MissDestructo', {'weight': 1}), ('moniguzman', 'heatherredman', {'weight': 1}), ('moniguzman', 'danshapiro', {'weight': 1}), ('moniguzman', 'hadip', {'weight': 1}), ('moniguzman', 'RajSinghSeattle', {'weight': 1}), ('moniguzman', 'stevesi', {'weight': 1}), ('moniguzman', 'Ryanintheus', {'weight': 1}), ('moniguzman', 'sonalpmane', {'weight': 1}), ('moniguzman', 'SoGulley', {'weight': 1}), ('moniguzman', 'tarah', {'weight': 1}), ('moniguzman', 'Jenerationy', {'weight': 1}), ('moniguzman', 'lanctot', {'weight': 1}), ('moniguzman', 'PeterHamilton', {'weight': 1}), ('moniguzman', 'sarahstood', {'weight': 1}), ('moniguzman', 'mcolacurcio', {'weight': 1}), ('moniguzman', 'marybethlambert', {'weight': 1}), ('mattmday', 'Rich_Barton', {'weight': 1}), ('mattmday', 'daryn', {'weight': 1}), ('mattmday', 'MissDestructo', {'weight': 1}), ('mattmday', 'medinism', {'weight': 1}), ('mattmday', 'KieranSnyder', {'weight': 1}), ('Rich_Barton', 'etzioni', {'weight': 1}), ('Rich_Barton', 'heatherredman', {'weight': 1}), ('Rich_Barton', 'hadip', {'weight': 1}), ('Rich_Barton', 'RajSinghSeattle', {'weight': 1}), ('Rich_Barton', 'stevesi', {'weight': 1}), ('Rich_Barton', 'Kristen_Hammy', {'weight': 1}), ('Rich_Barton', 'mcolacurcio', {'weight': 1}), ('daryn', 'heatherredman', {'weight': 1}), ('daryn', 'danshapiro', {'weight': 1}), ('daryn', 'hadip', {'weight': 1}), ('lovelletters', 'etzioni', {'weight': 1}), ('lovelletters', 'MissDestructo', {'weight': 1}), ('lovelletters', 'heatherredman', {'weight': 1}), ('lovelletters', 'danshapiro', {'weight': 1}), ('lovelletters', 'KieranSnyder', {'weight': 1}), ('lovelletters', 'hadip', {'weight': 1}), ('lovelletters', 'RajSinghSeattle', {'weight': 1}), ('lovelletters', 'kirbywinfield', {'weight': 1}), ('lovelletters', 'stevesi', {'weight': 1}), ('lovelletters', 'Ryanintheus', {'weight': 1}), ('lovelletters', 'sonalpmane', {'weight': 1}), ('lovelletters', 'SoGulley', {'weight': 1}), ('lovelletters', 'tarah', {'weight': 1}), ('lovelletters', 'lanctot', {'weight': 1}), ('lovelletters', 'Kristen_Hammy', {'weight': 1}), ('lovelletters', 'PeterHamilton', {'weight': 1}), ('lovelletters', 'sarahstood', {'weight': 1}), ('lovelletters', 'mcolacurcio', {'weight': 1}), ('etzioni', 'heatherredman', {'weight': 1}), ('etzioni', 'KieranSnyder', {'weight': 1}), ('etzioni', 'hadip', {'weight': 1}), ('etzioni', 'funcOfJoe', {'weight': 1}), ('etzioni', 'kirbywinfield', {'weight': 1}), ('etzioni', 'stevesi', {'weight': 1}), ('MissDestructo', 'heatherredman', {'weight': 1}), ('MissDestructo', 'danshapiro', {'weight': 1}), ('MissDestructo', 'KieranSnyder', {'weight': 1}), ('MissDestructo', 'RajSinghSeattle', {'weight': 1}), ('MissDestructo', 'stevesi', {'weight': 1}), ('MissDestructo', 'Ryanintheus', {'weight': 1}), ('MissDestructo', 'sonalpmane', {'weight': 1}), ('MissDestructo', 'SoGulley', {'weight': 1}), ('MissDestructo', '2morrowknight', {'weight': 1}), ('MissDestructo', 'tarah', {'weight': 1}), ('MissDestructo', 'PeterHamilton', {'weight': 1}), ('heatherredman', 'medinism', {'weight': 1}), ('heatherredman', 'KieranSnyder', {'weight': 1}), ('heatherredman', 'RajSinghSeattle', {'weight': 1}), ('heatherredman', 'kirbywinfield', {'weight': 1}), ('heatherredman', 'stevesi', {'weight': 1}), ('heatherredman', 'Ryanintheus', {'weight': 1}), ('heatherredman', 'sonalpmane', {'weight': 1}), ('heatherredman', 'SoGulley', {'weight': 1}), ('heatherredman', 'tarah', {'weight': 1}), ('heatherredman', 'lanctot', {'weight': 1}), ('heatherredman', 'Kristen_Hammy', {'weight': 1}), ('heatherredman', 'mcolacurcio', {'weight': 1}), ('heatherredman', 'marybethlambert', {'weight': 1}), ('danshapiro', 'KieranSnyder', {'weight': 1}), ('danshapiro', 'stevesi', {'weight': 1}), ('danshapiro', 'sonalpmane', {'weight': 1}), ('danshapiro', 'Jenerationy', {'weight': 1}), ('danshapiro', 'Kristen_Hammy', {'weight': 1}), ('danshapiro', 'PeterHamilton', {'weight': 1}), ('medinism', 'hadip', {'weight': 1}), ('medinism', 'SoGulley', {'weight': 1}), ('KieranSnyder', 'funcOfJoe', {'weight': 1}), ('KieranSnyder', 'stevesi', {'weight': 1}), ('KieranSnyder', 'sonalpmane', {'weight': 1}), ('KieranSnyder', 'SoGulley', {'weight': 1}), ('KieranSnyder', 'Kristen_Hammy', {'weight': 1}), ('KieranSnyder', 'nhuntwalker', {'weight': 1}), ('KieranSnyder', 'JenMsft', {'weight': 1}), ('hadip', 'funcOfJoe', {'weight': 1}), ('hadip', 'stevesi', {'weight': 1}), ('hadip', 'sonalpmane', {'weight': 1}), ('hadip', 'SoGulley', {'weight': 1}), ('hadip', 'jinman', {'weight': 1}), ('hadip', 'Jenerationy', {'weight': 1}), ('hadip', 'lanctot', {'weight': 1}), ('hadip', 'nhuntwalker', {'weight': 1}), ('hadip', 'mcolacurcio', {'weight': 1}), ('RajSinghSeattle', 'funcOfJoe', {'weight': 1}), ('RajSinghSeattle', 'stevesi', {'weight': 1}), ('RajSinghSeattle', 'Ryanintheus', {'weight': 1}), ('RajSinghSeattle', 'SoGulley', {'weight': 1}), ('funcOfJoe', 'stevesi', {'weight': 1}), ('kirbywinfield', 'stevesi', {'weight': 1}), ('kirbywinfield', 'Ryanintheus', {'weight': 1}), ('kirbywinfield', 'SoGulley', {'weight': 1}), ('kirbywinfield', 'lanctot', {'weight': 1}), ('kirbywinfield', 'sarahstood', {'weight': 1}), ('kirbywinfield', 'mcolacurcio', {'weight': 1}), ('stevesi', 'sonalpmane', {'weight': 1}), ('stevesi', 'jinman', {'weight': 1}), ('stevesi', 'lanctot', {'weight': 1}), ('stevesi', 'Kristen_Hammy', {'weight': 1}), ('stevesi', 'JenMsft', {'weight': 1}), ('stevesi', 'mcolacurcio', {'weight': 1}), ('Ryanintheus', 'Jenerationy', {'weight': 1}), ('Ryanintheus', 'nhuntwalker', {'weight': 1}), ('Ryanintheus', 'JenMsft', {'weight': 1}), ('Ryanintheus', 'sarahstood', {'weight': 1}), ('sonalpmane', 'SoGulley', {'weight': 1}), ('SoGulley', 'tarah', {'weight': 1}), ('SoGulley', 'Jenerationy', {'weight': 1}), ('SoGulley', 'Kristen_Hammy', {'weight': 1}), ('SoGulley', 'nhuntwalker', {'weight': 1}), ('SoGulley', 'PeterHamilton', {'weight': 1}), ('tarah', 'nhuntwalker', {'weight': 1}), ('Jenerationy', 'PeterHamilton', {'weight': 1}), ('Kristen_Hammy', 'mcolacurcio', {'weight': 1}), ('nhuntwalker', 'JenMsft', {'weight': 1}), ('PeterHamilton', 'mcolacurcio', {'weight': 1})])"
      ]
     },
     "execution_count": 8,
     "metadata": {},
     "output_type": "execute_result"
    }
   ],
   "source": [
    "EliteNet.edges(data=True)"
   ]
  },
  {
   "cell_type": "markdown",
   "id": "597b60fd",
   "metadata": {},
   "source": [
    "### 2. Adding Attributes\n",
    "\n",
    "Attributes are added using dictionaries _{node_name:attribute_value}_:"
   ]
  },
  {
   "cell_type": "code",
   "execution_count": null,
   "id": "f927812f",
   "metadata": {},
   "outputs": [],
   "source": [
    "# create dictionaries\n",
    "dictAttribute_male=dict(zip(attributes.name,attributes.male))\n",
    "dictAttribute_followers=dict(zip(attributes.name,attributes.followers))"
   ]
  },
  {
   "cell_type": "code",
   "execution_count": null,
   "id": "265442b9",
   "metadata": {},
   "outputs": [],
   "source": [
    "dictAttribute_male"
   ]
  },
  {
   "cell_type": "code",
   "execution_count": null,
   "id": "bc2d77c4",
   "metadata": {},
   "outputs": [],
   "source": [
    "# set attribute with the dictionaries\n",
    "net.set_node_attributes(EliteNet, dictAttribute_male,'male')\n",
    "net.set_node_attributes(EliteNet, dictAttribute_followers,'followers')"
   ]
  },
  {
   "cell_type": "code",
   "execution_count": null,
   "id": "6fd51cdf",
   "metadata": {},
   "outputs": [],
   "source": [
    "## see them\n",
    "EliteNet.nodes(data=True)"
   ]
  },
  {
   "cell_type": "code",
   "execution_count": null,
   "id": "c633bd1e",
   "metadata": {},
   "outputs": [],
   "source": [
    "EliteNet.edges()"
   ]
  },
  {
   "cell_type": "code",
   "execution_count": null,
   "id": "d949a699",
   "metadata": {},
   "outputs": [],
   "source": [
    "maleValues=net.get_node_attributes(EliteNet,'male').values()\n",
    "colors_for_nodes=['green' if attr==1 else 'red' for attr in maleValues]"
   ]
  },
  {
   "cell_type": "code",
   "execution_count": null,
   "id": "db2b9ee4",
   "metadata": {},
   "outputs": [],
   "source": [
    "net.draw(EliteNet,\n",
    "        with_labels=True,\n",
    "        node_color=colors_for_nodes)"
   ]
  },
  {
   "cell_type": "markdown",
   "id": "da85d885",
   "metadata": {},
   "source": [
    "## 3. Exploring the Network\n",
    "\n",
    "* Connectedness: A network is  “connected” if there exists a _path_ between any pair of nodes (undirected networks)."
   ]
  },
  {
   "cell_type": "code",
   "execution_count": null,
   "id": "39ed5e92",
   "metadata": {},
   "outputs": [],
   "source": [
    "net.is_connected(EliteNet)"
   ]
  },
  {
   "cell_type": "markdown",
   "id": "edc3b326",
   "metadata": {},
   "source": [
    "* Density: from 0 to 1, where 1 makes it a ‘complete’ network: there is a link between every pair of nodes."
   ]
  },
  {
   "cell_type": "code",
   "execution_count": null,
   "id": "8abd18d5",
   "metadata": {},
   "outputs": [],
   "source": [
    "net.density(EliteNet) "
   ]
  },
  {
   "cell_type": "markdown",
   "id": "875e6647",
   "metadata": {},
   "source": [
    "* Diameter: When two vertices are connected, one can reach the other using multiple egdes. The geodesic is the shorthest path between two connected vertices. Then, the diameter, is the maximum geodesic in a network."
   ]
  },
  {
   "cell_type": "code",
   "execution_count": null,
   "id": "9ccde266",
   "metadata": {},
   "outputs": [],
   "source": [
    "net.diameter(EliteNet)"
   ]
  },
  {
   "cell_type": "markdown",
   "id": "b7a8f20e",
   "metadata": {},
   "source": [
    "* Assortativity: it is a measure to see if nodes are connecting to other nodes similar to themselves. Closer to 1 means higher assortativity, closer to -1 diassortativity; while 0 is no assortativity.\n",
    "\n",
    "a.  Degree assortativity: tendency for highly connected nodes to be connected among themselves."
   ]
  },
  {
   "cell_type": "code",
   "execution_count": null,
   "id": "5f120e77",
   "metadata": {},
   "outputs": [],
   "source": [
    "net.degree_assortativity_coefficient(EliteNet)"
   ]
  },
  {
   "cell_type": "markdown",
   "id": "b56e673f",
   "metadata": {},
   "source": [
    "b.  Categorical assortativity: tendency for nodes with other nodes sharing the same category."
   ]
  },
  {
   "cell_type": "code",
   "execution_count": null,
   "id": "a1ef43aa",
   "metadata": {},
   "outputs": [],
   "source": [
    "net.attribute_assortativity_coefficient(EliteNet,'male')"
   ]
  },
  {
   "cell_type": "markdown",
   "id": "ee6ca14b",
   "metadata": {},
   "source": [
    "c. Assortativity (numerical): "
   ]
  },
  {
   "cell_type": "code",
   "execution_count": null,
   "id": "0d0ccf63",
   "metadata": {},
   "outputs": [],
   "source": [
    "net.numeric_assortativity_coefficient(EliteNet,'followers')"
   ]
  },
  {
   "cell_type": "markdown",
   "id": "446ec4f9",
   "metadata": {},
   "source": [
    "## 4. Exploration of Network nodes"
   ]
  },
  {
   "cell_type": "markdown",
   "id": "194c947a",
   "metadata": {},
   "source": [
    "- The eigenvector of a vertex will tell you how well connected is a vertex; that is, vertices with the highest values are considered the most influential as they are connected to vertices that are also well connected.\n",
    "\n",
    "- The closeness of a vertex will tell you how close is a vertex to every other vertex. A vertex with high closeness can share information faster than the rest.\n",
    "\n",
    "- The betweeness of a vertex will tell you how critical is a vertex to connect vertex that are not connected directly."
   ]
  },
  {
   "cell_type": "code",
   "execution_count": null,
   "id": "1cd3dc68",
   "metadata": {},
   "outputs": [],
   "source": [
    "# Computing centrality measures:\n",
    "\n",
    "eigen=net.eigenvector_centrality(EliteNet)\n",
    "\n",
    "clos=net.closeness_centrality(EliteNet)\n",
    "\n",
    "betw=net.betweenness_centrality(EliteNet,normalized=True)\n"
   ]
  },
  {
   "cell_type": "code",
   "execution_count": null,
   "id": "a79f9c1d",
   "metadata": {},
   "outputs": [],
   "source": [
    "# the dataframe of centralities\n",
    "\n",
    "DFCentrality=pd.DataFrame(dict(Eigenvector = eigen,\n",
    "                               Closeness = clos,\n",
    "                               Betweenness = betw)) \n"
   ]
  },
  {
   "cell_type": "code",
   "execution_count": null,
   "id": "ee8ffd37",
   "metadata": {},
   "outputs": [],
   "source": [
    "DFCentrality.reset_index(drop=False,names='person',inplace=True)\n",
    "DFCentrality"
   ]
  },
  {
   "cell_type": "code",
   "execution_count": null,
   "id": "7c1fd236",
   "metadata": {},
   "outputs": [],
   "source": [
    "import matplotlib.pyplot as plt\n",
    "\n",
    "fig, ax = plt.subplots(figsize=(7,7))\n",
    "\n",
    "ax.scatter(DFCentrality.Betweenness, DFCentrality.Closeness,s=(DFCentrality.Eigenvector+1)**35, alpha=0.5)\n",
    "\n",
    "valsForAnnotate=zip(DFCentrality['person'],DFCentrality['Betweenness'],DFCentrality['Closeness'])\n",
    "\n",
    "for name,coordX,coordY in valsForAnnotate:\n",
    "    ax.annotate(name, (coordX,coordY),alpha=0.5,size=7)\n",
    "    \n",
    "plt.title(\"scatterplot (size for Eigenvector of node)\")\n",
    "plt.xlabel(\"Betweenness\")\n",
    "plt.ylabel(\"Closeness\")\n",
    "plt.show()"
   ]
  },
  {
   "cell_type": "markdown",
   "id": "1008077a",
   "metadata": {},
   "source": [
    "The previous results tells us that two people are salient:"
   ]
  },
  {
   "cell_type": "code",
   "execution_count": null,
   "id": "5c111524",
   "metadata": {},
   "outputs": [],
   "source": [
    "# Determine the hub name:\n",
    "\n",
    "labelsHubs={n:n for n in DFCentrality.nlargest(2, 'Eigenvector')['person']}\n",
    "labelsHubs"
   ]
  },
  {
   "cell_type": "markdown",
   "id": "ea2369ff",
   "metadata": {},
   "source": [
    "let's highlight those guys:"
   ]
  },
  {
   "cell_type": "code",
   "execution_count": null,
   "id": "3c63bd2d",
   "metadata": {},
   "outputs": [],
   "source": [
    "# prepare to plot:\n",
    "fig, ax = plt.subplots(figsize=(7,7))\n",
    "\n",
    "## positions of the nodes\n",
    "pos=net.spring_layout(EliteNet)\n",
    "\n",
    "#edges\n",
    "net.draw_networkx_edges(EliteNet,pos,edge_color='grey',alpha=0.2)\n",
    "# make the hub salient\n",
    "net.draw_networkx_nodes(EliteNet,pos,nodelist=labelsHubs,node_size=200,node_color='r')\n",
    "# label the hubs\n",
    "net.draw_networkx_labels(EliteNet,pos,labels=labelsHubs,font_size=8,font_color='blue')\n",
    "\n",
    "plt.show()"
   ]
  },
  {
   "cell_type": "markdown",
   "id": "3f1b80b1",
   "metadata": {},
   "source": [
    "## 5. Communities"
   ]
  },
  {
   "cell_type": "code",
   "execution_count": null,
   "id": "0c7d4e23",
   "metadata": {},
   "outputs": [],
   "source": [
    "RandomNet=net.erdos_renyi_graph(len(EliteNet.nodes), p=0.5)"
   ]
  },
  {
   "cell_type": "markdown",
   "id": "8b7d10b4",
   "metadata": {},
   "source": [
    "* Transitivity: How probable is that two nodes with a common connection, are also connected."
   ]
  },
  {
   "cell_type": "code",
   "execution_count": null,
   "id": "c34f2d8d",
   "metadata": {},
   "outputs": [],
   "source": [
    "net.transitivity(RandomNet)"
   ]
  },
  {
   "cell_type": "code",
   "execution_count": null,
   "id": "e7b857f4",
   "metadata": {},
   "outputs": [],
   "source": [
    "net.transitivity(EliteNet)"
   ]
  },
  {
   "cell_type": "markdown",
   "id": "56dccf35",
   "metadata": {},
   "source": [
    "* Partition\n",
    "\n",
    "Set of nodes that belong to a group. The hard problems is to decide what node goes where:"
   ]
  },
  {
   "cell_type": "code",
   "execution_count": null,
   "id": "a87dc93b",
   "metadata": {},
   "outputs": [],
   "source": [
    "# edges that will partition the net\n",
    "edgesThePartition=net.minimum_edge_cut(EliteNet)\n",
    "type(edgesThePartition), edgesThePartition"
   ]
  },
  {
   "cell_type": "markdown",
   "id": "17b84241",
   "metadata": {},
   "source": [
    "Let's plot:"
   ]
  },
  {
   "cell_type": "code",
   "execution_count": null,
   "id": "1336c2d5",
   "metadata": {},
   "outputs": [],
   "source": [
    "# labels for the nodes that were part of the edge removed\n",
    "\n",
    "byNodes=set(sum(net.minimum_edge_cut(EliteNet),())) # flattening the set\n",
    "labelsBye={n:n for n in byNodes} # a dictionary\n",
    "\n",
    "## see\n",
    "labelsBye"
   ]
  },
  {
   "cell_type": "code",
   "execution_count": null,
   "id": "cbba3a7b",
   "metadata": {},
   "outputs": [],
   "source": [
    "EliteNet_cut=EliteNet.copy() \n",
    "\n",
    "EliteNet_cut.remove_edges_from(edgesThePartition)\n",
    "\n",
    "\n",
    "fig, ax = plt.subplots(figsize=(10,10))\n",
    "pos=net.spring_layout(EliteNet) # positions for the original net\n",
    "net.draw(EliteNet_cut,pos=pos,node_color='yellow')  # plotting the cuts \n",
    "net.draw_networkx_labels(EliteNet,pos,\n",
    "                         labels=labelsBye,font_size=12,font_color='red'); # labelling\n",
    "\n"
   ]
  },
  {
   "cell_type": "markdown",
   "id": "ffa940d3",
   "metadata": {},
   "source": [
    "The **girvan_newman** algorithm is based on creating partitions using the centrality of nodes to create partitions too. We can create something similar to the last result like this:"
   ]
  },
  {
   "cell_type": "code",
   "execution_count": null,
   "id": "757ba55d",
   "metadata": {},
   "outputs": [],
   "source": [
    "# generator of partitions\n",
    "partition_girvanNewman_all = net.community.girvan_newman(EliteNet) \n",
    "# the first partition\n",
    "partition_girvanNewman_first = list(set(sorted(c)) for c in next(partition_girvanNewman_all)) "
   ]
  },
  {
   "cell_type": "markdown",
   "id": "889cd7d0",
   "metadata": {},
   "source": [
    "Replotting the previous:"
   ]
  },
  {
   "cell_type": "code",
   "execution_count": null,
   "id": "1bf840f3",
   "metadata": {},
   "outputs": [],
   "source": [
    "fig, ax = plt.subplots(figsize=(10,10))\n",
    "\n",
    "pos = net.spring_layout(EliteNet)\n",
    "\n",
    "cmap = plt.get_cmap('Accent', len(partition_girvanNewman_first)) # amount of colors\n",
    "\n",
    "net.draw_networkx_edges(EliteNet, pos, alpha=0.2) # all edges\n",
    "net.draw_networkx_labels(EliteNet,pos,\n",
    "                         labels=labelsBye,font_size=6,font_color='red'); # labelling\n",
    "\n",
    "\n",
    "for color, nodes in enumerate(partition_girvanNewman_first): # position , nodeset\n",
    "    \n",
    "    net.draw_networkx_nodes(EliteNet, pos, nodes, node_size=50,\n",
    "                           node_color=[cmap.colors[color]])"
   ]
  },
  {
   "cell_type": "markdown",
   "id": "8e610ef2",
   "metadata": {},
   "source": [
    "A more complex algorithm is the [Louvain](https://perso.uclouvain.be/vincent.blondel/research/louvain.html): "
   ]
  },
  {
   "cell_type": "code",
   "execution_count": null,
   "id": "13728109",
   "metadata": {},
   "outputs": [],
   "source": [
    "partition_louvain=net.community.louvain_communities(EliteNet)"
   ]
  },
  {
   "cell_type": "code",
   "execution_count": null,
   "id": "c314f9ac",
   "metadata": {},
   "outputs": [],
   "source": [
    "###\n",
    "\n",
    "fig, ax = plt.subplots(figsize=(10,10))\n",
    "pos = net.spring_layout(EliteNet,k=3)\n",
    "cmap = plt.get_cmap('Accent', len(partition_louvain))\n",
    "net.draw_networkx_edges(EliteNet, pos, alpha=0.2)\n",
    "for color, nodes in enumerate(partition_louvain):\n",
    "    \n",
    "    net.draw_networkx_nodes(EliteNet, pos, nodes, node_size=100,\n",
    "                           node_color=[cmap.colors[color]])"
   ]
  },
  {
   "cell_type": "code",
   "execution_count": null,
   "id": "d8aa4cb7",
   "metadata": {},
   "outputs": [],
   "source": [
    "partition_girvanNewman_all = list(net.community.girvan_newman(EliteNet))\n",
    "pd.DataFrame([partition_girvanNewman_all[len(partition_louvain)],\n",
    "              partition_girvanNewman_all[len(partition_louvain)-1],\n",
    "              partition_girvanNewman_all[len(partition_louvain)-2]]).T"
   ]
  },
  {
   "cell_type": "markdown",
   "id": "1ba44389",
   "metadata": {},
   "source": [
    "* Modularity:\n",
    "\n",
    "If we get positive values (being 1 the top value), we could consider there are good community structures ([wiki](https://en.wikipedia.org/wiki/Modularity_(networks))). The higher modularity the connections between the nodes are dense  within a partition but sparse  between nodes in different partitions."
   ]
  },
  {
   "cell_type": "code",
   "execution_count": null,
   "id": "16b8ce08",
   "metadata": {},
   "outputs": [],
   "source": [
    "a_partition_girvanNewman=partition_girvanNewman_all[len(partition_louvain)-2]\n",
    "\n",
    "net.community.modularity(EliteNet,a_partition_girvanNewman)"
   ]
  },
  {
   "cell_type": "code",
   "execution_count": null,
   "id": "1b2ce96a",
   "metadata": {},
   "outputs": [],
   "source": [
    "net.community.modularity(EliteNet,partition_louvain)"
   ]
  },
  {
   "cell_type": "markdown",
   "id": "428b58a3",
   "metadata": {},
   "source": [
    "## Exporting"
   ]
  },
  {
   "cell_type": "code",
   "execution_count": null,
   "id": "d34584d8",
   "metadata": {},
   "outputs": [],
   "source": [
    "from collections import ChainMap\n",
    "\n",
    "\n",
    "GnNn_attr=dict(ChainMap(*[{node:a for node in b} for a,b in enumerate(a_partition_girvanNewman)]))\n",
    "GnNn_attr"
   ]
  },
  {
   "cell_type": "code",
   "execution_count": null,
   "id": "11223544",
   "metadata": {},
   "outputs": [],
   "source": [
    "Ln_attr=dict(ChainMap(*[{node:a for node in b} for a,b in enumerate(partition_louvain)]))\n",
    "Ln_attr"
   ]
  },
  {
   "cell_type": "code",
   "execution_count": null,
   "id": "6e02a657",
   "metadata": {},
   "outputs": [],
   "source": [
    "net.set_node_attributes(EliteNet, GnNn_attr,'Girvan_Newman_partition')\n",
    "net.set_node_attributes(EliteNet, Ln_attr,'Louvain_partition')"
   ]
  },
  {
   "cell_type": "code",
   "execution_count": null,
   "id": "59eefd0e",
   "metadata": {},
   "outputs": [],
   "source": [
    "net.write_graphml(EliteNet, \"EliteNet_py.graphml\",encoding='utf-8')"
   ]
  },
  {
   "cell_type": "code",
   "execution_count": null,
   "id": "237c8fc2",
   "metadata": {},
   "outputs": [],
   "source": []
  }
 ],
 "metadata": {
  "kernelspec": {
   "display_name": "Python 3 (ipykernel)",
   "language": "python",
   "name": "python3"
  },
  "language_info": {
   "codemirror_mode": {
    "name": "ipython",
    "version": 3
   },
   "file_extension": ".py",
   "mimetype": "text/x-python",
   "name": "python",
   "nbconvert_exporter": "python",
   "pygments_lexer": "ipython3",
   "version": "3.9.13"
  }
 },
 "nbformat": 4,
 "nbformat_minor": 5
}
